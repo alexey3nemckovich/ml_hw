{
 "cells": [
  {
   "attachments": {},
   "cell_type": "markdown",
   "metadata": {
    "collapsed": false
   },
   "source": [
    "## Практическое домашнее задание на проверку знаний по модулю 1.\n",
    "\n",
    "\n",
    "##### Тема тестирования - базовый эксплоративный анализ и аналитическое мышление. Вам будет предоставлен датасет и 25 вопросов касаемо данного датасета. Ваша задача - подумать как найти ответы на поставленные вопросы ниже. За каждый правильно оформленный и предоставленный ответ начисляется *4 балла*.\n",
    "\n",
    "#### Ответ на решение присылать ссылкой на ваш гитхаб репозиторий на почту maratmovlamov2017@gmail.com\n",
    "\n",
    "#### Сроки выполнения практического домашнего задания - ровно 7 календарных дней (168 часов) с момента публикации в группе. Прошу приступать к решению задач порционно. Прошу повторить дополнительные материалы, предоставленные в качестве самостоятельного изучения в конце презентаций, они вам понадобятся.\n",
    "\n",
    "\n",
    "\n",
    "#### Критерии оценки присланного решения:\n",
    "\n",
    "* Правильность полученного ответа - на каждый поставленный вопрос есть один и только один правильный ответ. В случае неправильного ответа на поставленный вопрос, предоставленный ответ на него считается проваленным, даже если код написан правильно и красиво. Общее количество баллов, которые можно получить ответив на все вопросы верно - 25 * 4 = 100 баллов, которые шкалируются к 10-ти бальной шкале.\n",
    "\n",
    "___\n",
    "\n",
    "* Аккуратность, правильность и читаемость кода - старайтесь писать код без повторного использования методов и ненужных переменных (помните про принцип DRY - don't repeat yourself). Плюсом будет, если ваш код будет упакован в лаконичную и красиво написанную функцию. Если вся работа выполненна аккуратно, без спагетти кода, к общему результату работы начисляется 1 балл.\n",
    "\n",
    "---\n",
    "\n",
    "* На предоставленные вопросы, дописывается комментарий для проверки вашего мышления и поиска ответа в виде Markdown комментария. В случае если комментарий на поставленный вопрос не предоставлен снимается 0.1 балл за каждый такой вопрос. То есть общий штраф за отсутсвие комментариев по всем вопросам 25 * -0.1 =  -2.5 балла.\n",
    "\n",
    "\n",
    "#### Удачи и да прибудет с Вами сила :)\n",
    "\n"
   ]
  },
  {
   "cell_type": "code",
   "execution_count": 420,
   "metadata": {
    "ExecuteTime": {
     "end_time": "2023-05-22T09:51:30.639118200Z",
     "start_time": "2023-05-22T09:51:30.360510500Z"
    },
    "collapsed": false
   },
   "outputs": [],
   "source": [
    "import pandas as pd\n",
    "import numpy as np"
   ]
  },
  {
   "cell_type": "code",
   "execution_count": 421,
   "metadata": {
    "ExecuteTime": {
     "end_time": "2023-05-22T09:51:31.599273500Z",
     "start_time": "2023-05-22T09:51:31.113968400Z"
    },
    "collapsed": false
   },
   "outputs": [],
   "source": [
    "data = pd.read_csv(\"./dataset/Spotify_Youtube.csv\")"
   ]
  },
  {
   "cell_type": "code",
   "execution_count": 422,
   "metadata": {
    "ExecuteTime": {
     "end_time": "2023-05-22T09:51:32.243645600Z",
     "start_time": "2023-05-22T09:51:32.227638100Z"
    },
    "collapsed": false
   },
   "outputs": [
    {
     "data": {
      "text/html": [
       "<div>\n",
       "<style scoped>\n",
       "    .dataframe tbody tr th:only-of-type {\n",
       "        vertical-align: middle;\n",
       "    }\n",
       "\n",
       "    .dataframe tbody tr th {\n",
       "        vertical-align: top;\n",
       "    }\n",
       "\n",
       "    .dataframe thead th {\n",
       "        text-align: right;\n",
       "    }\n",
       "</style>\n",
       "<table border=\"1\" class=\"dataframe\">\n",
       "  <thead>\n",
       "    <tr style=\"text-align: right;\">\n",
       "      <th></th>\n",
       "      <th>Unnamed: 0</th>\n",
       "      <th>Artist</th>\n",
       "      <th>Url_spotify</th>\n",
       "      <th>Track</th>\n",
       "      <th>Album</th>\n",
       "      <th>Album_type</th>\n",
       "      <th>Uri</th>\n",
       "      <th>Danceability</th>\n",
       "      <th>Energy</th>\n",
       "      <th>Key</th>\n",
       "      <th>...</th>\n",
       "      <th>Url_youtube</th>\n",
       "      <th>Title</th>\n",
       "      <th>Channel</th>\n",
       "      <th>Views</th>\n",
       "      <th>Likes</th>\n",
       "      <th>Comments</th>\n",
       "      <th>Description</th>\n",
       "      <th>Licensed</th>\n",
       "      <th>official_video</th>\n",
       "      <th>Stream</th>\n",
       "    </tr>\n",
       "  </thead>\n",
       "  <tbody>\n",
       "    <tr>\n",
       "      <th>0</th>\n",
       "      <td>0</td>\n",
       "      <td>Gorillaz</td>\n",
       "      <td>https://open.spotify.com/artist/3AA28KZvwAUcZu...</td>\n",
       "      <td>Feel Good Inc.</td>\n",
       "      <td>Demon Days</td>\n",
       "      <td>album</td>\n",
       "      <td>spotify:track:0d28khcov6AiegSCpG5TuT</td>\n",
       "      <td>0.818</td>\n",
       "      <td>0.705</td>\n",
       "      <td>6.0</td>\n",
       "      <td>...</td>\n",
       "      <td>https://www.youtube.com/watch?v=HyHNuVaZJ-k</td>\n",
       "      <td>Gorillaz - Feel Good Inc. (Official Video)</td>\n",
       "      <td>Gorillaz</td>\n",
       "      <td>693555221.0</td>\n",
       "      <td>6220896.0</td>\n",
       "      <td>169907.0</td>\n",
       "      <td>Official HD Video for Gorillaz' fantastic trac...</td>\n",
       "      <td>True</td>\n",
       "      <td>True</td>\n",
       "      <td>1.040235e+09</td>\n",
       "    </tr>\n",
       "    <tr>\n",
       "      <th>1</th>\n",
       "      <td>1</td>\n",
       "      <td>Gorillaz</td>\n",
       "      <td>https://open.spotify.com/artist/3AA28KZvwAUcZu...</td>\n",
       "      <td>Rhinestone Eyes</td>\n",
       "      <td>Plastic Beach</td>\n",
       "      <td>album</td>\n",
       "      <td>spotify:track:1foMv2HQwfQ2vntFf9HFeG</td>\n",
       "      <td>0.676</td>\n",
       "      <td>0.703</td>\n",
       "      <td>8.0</td>\n",
       "      <td>...</td>\n",
       "      <td>https://www.youtube.com/watch?v=yYDmaexVHic</td>\n",
       "      <td>Gorillaz - Rhinestone Eyes [Storyboard Film] (...</td>\n",
       "      <td>Gorillaz</td>\n",
       "      <td>72011645.0</td>\n",
       "      <td>1079128.0</td>\n",
       "      <td>31003.0</td>\n",
       "      <td>The official video for Gorillaz - Rhinestone E...</td>\n",
       "      <td>True</td>\n",
       "      <td>True</td>\n",
       "      <td>3.100837e+08</td>\n",
       "    </tr>\n",
       "    <tr>\n",
       "      <th>2</th>\n",
       "      <td>2</td>\n",
       "      <td>Gorillaz</td>\n",
       "      <td>https://open.spotify.com/artist/3AA28KZvwAUcZu...</td>\n",
       "      <td>New Gold (feat. Tame Impala and Bootie Brown)</td>\n",
       "      <td>New Gold (feat. Tame Impala and Bootie Brown)</td>\n",
       "      <td>single</td>\n",
       "      <td>spotify:track:64dLd6rVqDLtkXFYrEUHIU</td>\n",
       "      <td>0.695</td>\n",
       "      <td>0.923</td>\n",
       "      <td>1.0</td>\n",
       "      <td>...</td>\n",
       "      <td>https://www.youtube.com/watch?v=qJa-VFwPpYA</td>\n",
       "      <td>Gorillaz - New Gold ft. Tame Impala &amp; Bootie B...</td>\n",
       "      <td>Gorillaz</td>\n",
       "      <td>8435055.0</td>\n",
       "      <td>282142.0</td>\n",
       "      <td>7399.0</td>\n",
       "      <td>Gorillaz - New Gold ft. Tame Impala &amp; Bootie B...</td>\n",
       "      <td>True</td>\n",
       "      <td>True</td>\n",
       "      <td>6.306347e+07</td>\n",
       "    </tr>\n",
       "    <tr>\n",
       "      <th>3</th>\n",
       "      <td>3</td>\n",
       "      <td>Gorillaz</td>\n",
       "      <td>https://open.spotify.com/artist/3AA28KZvwAUcZu...</td>\n",
       "      <td>On Melancholy Hill</td>\n",
       "      <td>Plastic Beach</td>\n",
       "      <td>album</td>\n",
       "      <td>spotify:track:0q6LuUqGLUiCPP1cbdwFs3</td>\n",
       "      <td>0.689</td>\n",
       "      <td>0.739</td>\n",
       "      <td>2.0</td>\n",
       "      <td>...</td>\n",
       "      <td>https://www.youtube.com/watch?v=04mfKJWDSzI</td>\n",
       "      <td>Gorillaz - On Melancholy Hill (Official Video)</td>\n",
       "      <td>Gorillaz</td>\n",
       "      <td>211754952.0</td>\n",
       "      <td>1788577.0</td>\n",
       "      <td>55229.0</td>\n",
       "      <td>Follow Gorillaz online:\\nhttp://gorillaz.com \\...</td>\n",
       "      <td>True</td>\n",
       "      <td>True</td>\n",
       "      <td>4.346636e+08</td>\n",
       "    </tr>\n",
       "    <tr>\n",
       "      <th>4</th>\n",
       "      <td>4</td>\n",
       "      <td>Gorillaz</td>\n",
       "      <td>https://open.spotify.com/artist/3AA28KZvwAUcZu...</td>\n",
       "      <td>Clint Eastwood</td>\n",
       "      <td>Gorillaz</td>\n",
       "      <td>album</td>\n",
       "      <td>spotify:track:7yMiX7n9SBvadzox8T5jzT</td>\n",
       "      <td>0.663</td>\n",
       "      <td>0.694</td>\n",
       "      <td>10.0</td>\n",
       "      <td>...</td>\n",
       "      <td>https://www.youtube.com/watch?v=1V_xRb0x9aw</td>\n",
       "      <td>Gorillaz - Clint Eastwood (Official Video)</td>\n",
       "      <td>Gorillaz</td>\n",
       "      <td>618480958.0</td>\n",
       "      <td>6197318.0</td>\n",
       "      <td>155930.0</td>\n",
       "      <td>The official music video for Gorillaz - Clint ...</td>\n",
       "      <td>True</td>\n",
       "      <td>True</td>\n",
       "      <td>6.172597e+08</td>\n",
       "    </tr>\n",
       "  </tbody>\n",
       "</table>\n",
       "<p>5 rows × 28 columns</p>\n",
       "</div>"
      ],
      "text/plain": [
       "   Unnamed: 0    Artist                                        Url_spotify   \n",
       "0           0  Gorillaz  https://open.spotify.com/artist/3AA28KZvwAUcZu...  \\\n",
       "1           1  Gorillaz  https://open.spotify.com/artist/3AA28KZvwAUcZu...   \n",
       "2           2  Gorillaz  https://open.spotify.com/artist/3AA28KZvwAUcZu...   \n",
       "3           3  Gorillaz  https://open.spotify.com/artist/3AA28KZvwAUcZu...   \n",
       "4           4  Gorillaz  https://open.spotify.com/artist/3AA28KZvwAUcZu...   \n",
       "\n",
       "                                           Track   \n",
       "0                                 Feel Good Inc.  \\\n",
       "1                                Rhinestone Eyes   \n",
       "2  New Gold (feat. Tame Impala and Bootie Brown)   \n",
       "3                             On Melancholy Hill   \n",
       "4                                 Clint Eastwood   \n",
       "\n",
       "                                           Album Album_type   \n",
       "0                                     Demon Days      album  \\\n",
       "1                                  Plastic Beach      album   \n",
       "2  New Gold (feat. Tame Impala and Bootie Brown)     single   \n",
       "3                                  Plastic Beach      album   \n",
       "4                                       Gorillaz      album   \n",
       "\n",
       "                                    Uri  Danceability  Energy   Key  ...   \n",
       "0  spotify:track:0d28khcov6AiegSCpG5TuT         0.818   0.705   6.0  ...  \\\n",
       "1  spotify:track:1foMv2HQwfQ2vntFf9HFeG         0.676   0.703   8.0  ...   \n",
       "2  spotify:track:64dLd6rVqDLtkXFYrEUHIU         0.695   0.923   1.0  ...   \n",
       "3  spotify:track:0q6LuUqGLUiCPP1cbdwFs3         0.689   0.739   2.0  ...   \n",
       "4  spotify:track:7yMiX7n9SBvadzox8T5jzT         0.663   0.694  10.0  ...   \n",
       "\n",
       "                                   Url_youtube   \n",
       "0  https://www.youtube.com/watch?v=HyHNuVaZJ-k  \\\n",
       "1  https://www.youtube.com/watch?v=yYDmaexVHic   \n",
       "2  https://www.youtube.com/watch?v=qJa-VFwPpYA   \n",
       "3  https://www.youtube.com/watch?v=04mfKJWDSzI   \n",
       "4  https://www.youtube.com/watch?v=1V_xRb0x9aw   \n",
       "\n",
       "                                               Title   Channel        Views   \n",
       "0         Gorillaz - Feel Good Inc. (Official Video)  Gorillaz  693555221.0  \\\n",
       "1  Gorillaz - Rhinestone Eyes [Storyboard Film] (...  Gorillaz   72011645.0   \n",
       "2  Gorillaz - New Gold ft. Tame Impala & Bootie B...  Gorillaz    8435055.0   \n",
       "3     Gorillaz - On Melancholy Hill (Official Video)  Gorillaz  211754952.0   \n",
       "4         Gorillaz - Clint Eastwood (Official Video)  Gorillaz  618480958.0   \n",
       "\n",
       "       Likes  Comments                                        Description   \n",
       "0  6220896.0  169907.0  Official HD Video for Gorillaz' fantastic trac...  \\\n",
       "1  1079128.0   31003.0  The official video for Gorillaz - Rhinestone E...   \n",
       "2   282142.0    7399.0  Gorillaz - New Gold ft. Tame Impala & Bootie B...   \n",
       "3  1788577.0   55229.0  Follow Gorillaz online:\\nhttp://gorillaz.com \\...   \n",
       "4  6197318.0  155930.0  The official music video for Gorillaz - Clint ...   \n",
       "\n",
       "   Licensed official_video        Stream  \n",
       "0      True           True  1.040235e+09  \n",
       "1      True           True  3.100837e+08  \n",
       "2      True           True  6.306347e+07  \n",
       "3      True           True  4.346636e+08  \n",
       "4      True           True  6.172597e+08  \n",
       "\n",
       "[5 rows x 28 columns]"
      ]
     },
     "execution_count": 422,
     "metadata": {},
     "output_type": "execute_result"
    }
   ],
   "source": [
    "data.head()"
   ]
  },
  {
   "attachments": {},
   "cell_type": "markdown",
   "metadata": {
    "collapsed": false
   },
   "source": [
    "### Структура датасета:\n",
    "\n",
    "----\n",
    "\n",
    "26 признаков, описание которых следует ниже:\n",
    "\n",
    "\n",
    "\n",
    "- **Track**: name of the song, as visible on the Spotify platform.\n",
    "- **Artist**: name of the artist.\n",
    "- **Url_spotify**: the Url of the artist.\n",
    "- **Album**: the album in wich the song is contained on Spotify.\n",
    "- **Album_type**: indicates if the song is relesead on Spotify as a single or contained in an album.\n",
    "- **Uri**: a spotify link used to find the song through the API.\n",
    "- **Danceability**: describes how suitable a track is for dancing based on a combination of musical elements including tempo, rhythm stability, beat strength, and overall regularity. A value of 0.0 is least danceable and 1.0 is most danceable.\n",
    "- **Energy:** is a measure from 0.0 to 1.0 and represents a perceptual measure of intensity and activity. Typically, energetic tracks feel fast, loud, and noisy. For example, death metal has high energy, while a Bach prelude scores low on the scale. Perceptual features contributing to this attribute include dynamic range, perceived loudness, timbre, onset rate, and general entropy.\n",
    "- **Key**: the key the track is in. Integers map to pitches using standard Pitch Class notation. E.g. 0 = C, 1 = C♯/D♭, 2 = D, and so on. If no key was detected, the value is -1.\n",
    "- **Loudness**: the overall loudness of a track in decibels (dB). Loudness values are averaged across the entire track and are useful for comparing relative loudness of tracks. Loudness is the quality of a sound that is the primary psychological correlate of physical strength (amplitude). Values typically range between -60 and 0 db.\n",
    "- **Speechiness**: detects the presence of spoken words in a track. The more exclusively speech-like the recording (e.g. talk show, audio book, poetry), the closer to 1.0 the attribute value. Values above 0.66 describe tracks that are probably made entirely of spoken words. Values between 0.33 and 0.66 describe tracks that may contain both music and speech, either in sections or layered, including such cases as rap music. Values below 0.33 most likely represent music and other non-speech-like tracks.\n",
    "- **Acousticness**: a confidence measure from 0.0 to 1.0 of whether the track is acoustic. 1.0 represents high confidence the track is acoustic.\n",
    "- **Instrumentalness**: predicts whether a track contains no vocals. \"Ooh\" and \"aah\" sounds are treated as instrumental in this context. Rap or spoken word tracks are clearly \"vocal\". The closer the instrumentalness value is to 1.0, the greater likelihood the track contains no vocal content. Values above 0.5 are intended to represent instrumental tracks, but confidence is higher as the value approaches 1.0.\n",
    "- **Liveness**: detects the presence of an audience in the recording. Higher liveness values represent an increased probability that the track was performed live. A value above 0.8 provides strong likelihood that the track is live.\n",
    "- **Valence**: a measure from 0.0 to 1.0 describing the musical positiveness conveyed by a track. Tracks with high valence sound more positive (e.g. happy, cheerful, euphoric), while tracks with low valence sound more negative (e.g. sad, depressed, angry).\n",
    "- **Tempo**: the overall estimated tempo of a track in beats per minute (BPM). In musical terminology, tempo is the speed or pace of a given piece and derives directly from the average beat duration.\n",
    "- **Duration_ms**: the duration of the track in milliseconds.\n",
    "- **Stream**: number of streams of the song on Spotify.\n",
    "- **Url_youtube**: url of the video linked to the song on Youtube, if it have any.\n",
    "- **Title**: title of the videoclip on youtube.\n",
    "- **Channel**: name of the channel that have published the video.\n",
    "- **Views**: number of views.\n",
    "- **Likes**: number of likes.\n",
    "- **Comments**: number of comments.\n",
    "- **Description**: description of the video on Youtube.\n",
    "- **Licensed**: Indicates whether the video represents licensed content, which means that the content was uploaded to a channel linked to a YouTube content partner and then claimed by that partner. official_video: boolean value that indicates if the video found is the official video of the song."
   ]
  },
  {
   "attachments": {},
   "cell_type": "markdown",
   "metadata": {
    "collapsed": false
   },
   "source": [
    "### Вопросы:"
   ]
  },
  {
   "attachments": {},
   "cell_type": "markdown",
   "metadata": {},
   "source": [
    "Вынесем функции, которые будут часто использоваться, в самое начало для того, чтобы не повторяться."
   ]
  },
  {
   "attachments": {},
   "cell_type": "markdown",
   "metadata": {},
   "source": [
    "Здесь и далее будет часто возникать наобходимость выявления сущности с наивысшим значением того либо иного признака.<br>Это можно сделать несколькими способами."
   ]
  },
  {
   "attachments": {},
   "cell_type": "markdown",
   "metadata": {},
   "source": [
    "**find_top_item_by_feature_1: путём сортировки и получения элемента с первой позиции**"
   ]
  },
  {
   "attachments": {},
   "cell_type": "markdown",
   "metadata": {},
   "source": [
    "Cортируем набор по признаку в порядке убывания.<br>Первая строка в отсортированным таким образом наборе и будет отображать информацию о сущности с наивысшим значением признака."
   ]
  },
  {
   "cell_type": "code",
   "execution_count": 423,
   "metadata": {},
   "outputs": [],
   "source": [
    "def find_top_item_by_feature_1(data, feature):\n",
    "    \"\"\"\n",
    "    Parameters\n",
    "    ----------\n",
    "    data : DataFrame\n",
    "    feature : str\n",
    "        Feature name to sort by\n",
    "    \"\"\"\n",
    "    return data.sort_values(by=feature, ascending=False).iloc[0]"
   ]
  },
  {
   "attachments": {},
   "cell_type": "markdown",
   "metadata": {},
   "source": [
    "**find_top_item_by_feature_2: с помощью argmax (нахождение индекса с макс значением признака)**"
   ]
  },
  {
   "cell_type": "code",
   "execution_count": 424,
   "metadata": {},
   "outputs": [],
   "source": [
    "def find_top_item_by_feature_2(data, feature):\n",
    "    \"\"\"\n",
    "    Parameters\n",
    "    ----------\n",
    "    data : DataFrame\n",
    "    feature : str\n",
    "        Feature name to sort by\n",
    "    \"\"\"\n",
    "    return data.iloc[data[feature].argmax()]"
   ]
  },
  {
   "attachments": {},
   "cell_type": "markdown",
   "metadata": {},
   "source": [
    "Сравним скорость работы этих функции на конкретном примере для выявления более быстрой."
   ]
  },
  {
   "cell_type": "code",
   "execution_count": 425,
   "metadata": {},
   "outputs": [
    {
     "name": "stdout",
     "output_type": "stream",
     "text": [
      "5.973115993023384\n",
      "0.09858895599609241\n"
     ]
    }
   ],
   "source": [
    "import timeit\n",
    "\n",
    "find_top_item_by_feature_1_test_code = \"\"\"\n",
    "find_top_item_by_feature_1(data, \"Stream\")\n",
    "\"\"\"\n",
    "find_top_item_by_feature_2_test_code = \"\"\"\n",
    "find_top_item_by_feature_2(data, \"Stream\")\n",
    "\"\"\"\n",
    "\n",
    "print(timeit.timeit(find_top_item_by_feature_1_test_code, number=500, globals=globals()))\n",
    "print(timeit.timeit(find_top_item_by_feature_2_test_code, number=500, globals=globals()))"
   ]
  },
  {
   "attachments": {},
   "cell_type": "markdown",
   "metadata": {},
   "source": [
    "Т.к. очевидно **find_top_item_by_feature_2** работает быстрее, то будем в дальнейшем использовать её."
   ]
  },
  {
   "cell_type": "code",
   "execution_count": 426,
   "metadata": {},
   "outputs": [],
   "source": [
    "find_top_item_by_feature = find_top_item_by_feature_2"
   ]
  },
  {
   "attachments": {},
   "cell_type": "markdown",
   "metadata": {},
   "source": [
    "Так же часто будет возникать необходимость нахождения категории, которая по тому либо иному признаку будет иметь наибольшую сумму либо среднее значение в зависимости от заданного способа аггрерации данных.\n",
    "<br>Для этого нужно прибегнуть к группировке данных по заданному критерию.\n",
    "<br>Это можно сделать несколькими способами."
   ]
  },
  {
   "attachments": {},
   "cell_type": "markdown",
   "metadata": {},
   "source": [
    "**find_top_category_by_feature_1: с помощью groupby**"
   ]
  },
  {
   "attachments": {},
   "cell_type": "markdown",
   "metadata": {},
   "source": [
    "Группируем данные по признаку, который рассматривается в качестве категории, и достаём нужный признак.\n",
    "<br>Аггрегируем данные с помощью функции, переданной в качестве параметра.\n",
    "<br>Далее исользуем argmax для нахождения категории с наибольшим значением."
   ]
  },
  {
   "cell_type": "code",
   "execution_count": 427,
   "metadata": {},
   "outputs": [],
   "source": [
    "def find_top_category_by_feature_1(data, category, feature, aggfunc):\n",
    "    \"\"\"\n",
    "    Parameters\n",
    "    ----------\n",
    "    data : DataFrame\n",
    "    category: str\n",
    "        Column to use as category\n",
    "    feature : str\n",
    "        Feature name to use values for aggregation\n",
    "    aggfunc : function\n",
    "        Function to aggregate values with\n",
    "    \"\"\"\n",
    "    group_result = data.groupby(by=category)[feature].agg(eval(aggfunc))\n",
    "    return group_result.index[group_result.argmax()]"
   ]
  },
  {
   "attachments": {},
   "cell_type": "markdown",
   "metadata": {},
   "source": [
    "**find_top_category_by_feature_2: с помощью pivot_table**"
   ]
  },
  {
   "attachments": {},
   "cell_type": "markdown",
   "metadata": {},
   "source": [
    "Делаем сводную таблицу, где в качестве индекса используются значения признака, который рассматривается в качестве категории.\n",
    "<br>Для расчёта значений сводной таблицы используюется функции аггрегации и значения интересующего нас признака.\n",
    "<br>Далее исользуем argmax для нахождения названия категории с наибольшим значением."
   ]
  },
  {
   "cell_type": "code",
   "execution_count": 428,
   "metadata": {},
   "outputs": [],
   "source": [
    "def find_top_category_by_feature_2(data, category, feature, aggfunc):\n",
    "    \"\"\"\n",
    "    Parameters\n",
    "    ----------\n",
    "    data : DataFrame\n",
    "    category: str\n",
    "        Column to use as category\n",
    "    feature : str\n",
    "        Feature name to use values for aggregation\n",
    "    aggfunc : function\n",
    "        Function to aggregate values with\n",
    "    \"\"\"\n",
    "    pivot_table = pd.pivot_table(data, index=[category], values=feature, aggfunc=aggfunc)\n",
    "    return pivot_table.iloc[pivot_table[feature].argmax()].name"
   ]
  },
  {
   "attachments": {},
   "cell_type": "markdown",
   "metadata": {},
   "source": [
    "Сравним скорость работы этих функции на конкретном примере для выявления более быстрой."
   ]
  },
  {
   "cell_type": "code",
   "execution_count": 429,
   "metadata": {},
   "outputs": [
    {
     "name": "stdout",
     "output_type": "stream",
     "text": [
      "5.74937241099542\n",
      "0.1000627170142252\n"
     ]
    }
   ],
   "source": [
    "import timeit\n",
    "\n",
    "find_top_category_by_feature_1_test_code = \"\"\"\n",
    "find_top_category_by_feature_1(df, \"Artist\", \"Views\", \"sum\")\n",
    "\"\"\"\n",
    "find_top_category_by_feature_2_test_code = \"\"\"\n",
    "find_top_category_by_feature_2(df, \"Artist\", \"Views\", \"sum\")\n",
    "\"\"\"\n",
    "\n",
    "print(timeit.timeit(find_top_item_by_feature_1_test_code, number=500, globals=globals()))\n",
    "print(timeit.timeit(find_top_item_by_feature_2_test_code, number=500, globals=globals()))"
   ]
  },
  {
   "attachments": {},
   "cell_type": "markdown",
   "metadata": {},
   "source": [
    "Т.к. очевидно **find_top_category_by_feature_2** работает быстрее, то будем в дальнейшем использовать её."
   ]
  },
  {
   "cell_type": "code",
   "execution_count": 430,
   "metadata": {},
   "outputs": [],
   "source": [
    "find_top_category_by_feature = find_top_category_by_feature_2"
   ]
  },
  {
   "attachments": {},
   "cell_type": "markdown",
   "metadata": {},
   "source": [
    "Вынесем отдельно функцию для нахождения наиболее часто встречаемого значения категориального признака."
   ]
  },
  {
   "attachments": {},
   "cell_type": "markdown",
   "metadata": {},
   "source": [
    "**get_most_often_value:**"
   ]
  },
  {
   "attachments": {},
   "cell_type": "markdown",
   "metadata": {},
   "source": [
    "Получим количество для каждого из значений признака через value_counts.<br>Итоговый Series объект отсортирован по убыванию по умолчанию, поэтому, чтобы получить наиболее часто встречаемое значение, достаточно взять значение в нулевой строке объекта Series."
   ]
  },
  {
   "cell_type": "code",
   "execution_count": 431,
   "metadata": {},
   "outputs": [],
   "source": [
    "def get_most_often_value(data, feature):\n",
    "    \"\"\"\n",
    "    Parameters\n",
    "    ----------\n",
    "    data : DataFrame\n",
    "    feature : str\n",
    "        Feature name to search most often value\n",
    "    \"\"\"\n",
    "    return data[feature].value_counts().index[0]"
   ]
  },
  {
   "attachments": {},
   "cell_type": "markdown",
   "metadata": {},
   "source": [
    "**find_mean_value_for_top_items_by:**"
   ]
  },
  {
   "attachments": {},
   "cell_type": "markdown",
   "metadata": {},
   "source": [
    "Получаем значение квантиля для признака, по которому ищем топ строки. Т.е. такое значение признака отсеивания, выше которого значения будут иметь только top_percents процентов из всей выборки.\n",
    "<br>Далее фильтруем данные, отбирая только те, которые по заданному критерию входят в топ.\n",
    "<br>По всем отобранным данным ищем среднее значение интересующего нас признака."
   ]
  },
  {
   "cell_type": "code",
   "execution_count": 432,
   "metadata": {},
   "outputs": [],
   "source": [
    "def find_mean_value_for_top_items_by(data, top_feature, top_percents, mean_feature):\n",
    "    \"\"\"\n",
    "    Parameters\n",
    "    ----------\n",
    "    data : DataFrame\n",
    "    top_feature: str\n",
    "        Feature name to use to filter top items by\n",
    "    top_percents : int\n",
    "        Count of top items percentage to select by top_feature value\n",
    "    mean_feature : function\n",
    "        Feature name to use to calc average value for\n",
    "    \"\"\"\n",
    "    quantile = (100 - top_percents)/100\n",
    "    top_quartile = data[top_feature].quantile(quantile)\n",
    "    return data[data[top_feature] >= top_quartile][mean_feature].mean()"
   ]
  },
  {
   "attachments": {},
   "cell_type": "markdown",
   "metadata": {
    "collapsed": false
   },
   "source": [
    "#### 1. Какая песня является наиболее транслируемой в датасете (признак Stream)?"
   ]
  },
  {
   "attachments": {},
   "cell_type": "markdown",
   "metadata": {},
   "source": [
    "Находим наиболее транслируемую песню в датасете, используя **find_top_item_by_feature**"
   ]
  },
  {
   "attachments": {},
   "cell_type": "markdown",
   "metadata": {},
   "source": [
    "Параметры **find_top_item_by_feature**:\n",
    "- data\n",
    "- признак, по которому выбираем наблюдение с наибольшим значением - \"Stream\""
   ]
  },
  {
   "cell_type": "code",
   "execution_count": 433,
   "metadata": {
    "collapsed": false
   },
   "outputs": [
    {
     "name": "stdout",
     "output_type": "stream",
     "text": [
      "Unnamed: 0                                                      15250\n",
      "Artist                                                     The Weeknd\n",
      "Url_spotify         https://open.spotify.com/artist/1Xyo4u8uXC1ZmM...\n",
      "Track                                                 Blinding Lights\n",
      "Album                                                     After Hours\n",
      "Album_type                                                      album\n",
      "Uri                              spotify:track:0VjIjW4GlUZAMYd2vXMi3b\n",
      "Danceability                                                    0.514\n",
      "Energy                                                           0.73\n",
      "Key                                                               1.0\n",
      "Loudness                                                       -5.934\n",
      "Speechiness                                                    0.0598\n",
      "Acousticness                                                  0.00146\n",
      "Instrumentalness                                             0.000095\n",
      "Liveness                                                       0.0897\n",
      "Valence                                                         0.334\n",
      "Tempo                                                         171.005\n",
      "Duration_ms                                                  200040.0\n",
      "Url_youtube               https://www.youtube.com/watch?v=4NRXx6U8ABQ\n",
      "Title                   The Weeknd - Blinding Lights (Official Video)\n",
      "Channel                                                 TheWeekndVEVO\n",
      "Views                                                     674164500.0\n",
      "Likes                                                       8817927.0\n",
      "Comments                                                     282589.0\n",
      "Description         Official music video for The Weeknd \"Blinding ...\n",
      "Licensed                                                         True\n",
      "official_video                                                   True\n",
      "Stream                                                   3386520288.0\n",
      "Name: 15250, dtype: object\n"
     ]
    }
   ],
   "source": [
    "print(find_top_item_by_feature(data, \"Stream\"))"
   ]
  },
  {
   "attachments": {},
   "cell_type": "markdown",
   "metadata": {
    "collapsed": false
   },
   "source": [
    "#### 2. У какого исполнителя больше всего просмотров на YouTube?"
   ]
  },
  {
   "attachments": {},
   "cell_type": "markdown",
   "metadata": {},
   "source": [
    "Находим исполнителя с наибольшим суммарным количеством просмотров на YouTube, используя **find_top_category_by_feature**"
   ]
  },
  {
   "attachments": {},
   "cell_type": "markdown",
   "metadata": {},
   "source": [
    "Параметры **find_top_category_by_feature**:\n",
    "- для группировки признак - \"Artist\"\n",
    "- признак, для аггрегации - \"Views\"\n",
    "- функция аггрегации - \"sum\", т.к. интересует суммарное количество просмотров исполнителя"
   ]
  },
  {
   "cell_type": "code",
   "execution_count": 434,
   "metadata": {},
   "outputs": [
    {
     "data": {
      "text/plain": [
       "'Ed Sheeran'"
      ]
     },
     "execution_count": 434,
     "metadata": {},
     "output_type": "execute_result"
    }
   ],
   "source": [
    "find_top_category_by_feature(data, \"Artist\", \"Views\", \"sum\")"
   ]
  },
  {
   "attachments": {},
   "cell_type": "markdown",
   "metadata": {
    "collapsed": false
   },
   "source": [
    "#### 3. Какова средняя продолжительность всех песен в минутах?"
   ]
  },
  {
   "attachments": {},
   "cell_type": "markdown",
   "metadata": {},
   "source": [
    "Находим среднее значение по признаку Duration_ms. Для перевода в минут делим на количество милисекунд в одной минуте (60 сек * 1000 миллисек). Для красоты округляем до сотых."
   ]
  },
  {
   "cell_type": "code",
   "execution_count": 435,
   "metadata": {
    "collapsed": false
   },
   "outputs": [
    {
     "data": {
      "text/plain": [
       "3.75"
      ]
     },
     "execution_count": 435,
     "metadata": {},
     "output_type": "execute_result"
    }
   ],
   "source": [
    "round(data[\"Duration_ms\"].mean() / (60 * 1000), 2)"
   ]
  },
  {
   "attachments": {},
   "cell_type": "markdown",
   "metadata": {
    "collapsed": false
   },
   "source": [
    "#### 4. Какая нота (Key) чаще всего используется в песнях?"
   ]
  },
  {
   "attachments": {},
   "cell_type": "markdown",
   "metadata": {},
   "source": [
    "Находим наиболее часто используемую ноту, используя **get_most_often_value**"
   ]
  },
  {
   "attachments": {},
   "cell_type": "markdown",
   "metadata": {},
   "source": [
    "Параметры **get_most_often_value**:\n",
    "- data\n",
    "- признак, по которому ищем наиболее частое значение - \"Key\""
   ]
  },
  {
   "cell_type": "code",
   "execution_count": 436,
   "metadata": {},
   "outputs": [
    {
     "data": {
      "text/plain": [
       "0.0"
      ]
     },
     "execution_count": 436,
     "metadata": {},
     "output_type": "execute_result"
    }
   ],
   "source": [
    "get_most_often_value(data, \"Key\")"
   ]
  },
  {
   "attachments": {},
   "cell_type": "markdown",
   "metadata": {
    "collapsed": false
   },
   "source": [
    "#### 5. Какая самая популярная песня на YouTube?"
   ]
  },
  {
   "attachments": {},
   "cell_type": "markdown",
   "metadata": {},
   "source": [
    "Находим самую популярую песню на YouTube, используя **find_top_item_by_feature**. За критерий попрулярности принимаем количество просмотров."
   ]
  },
  {
   "attachments": {},
   "cell_type": "markdown",
   "metadata": {},
   "source": [
    "Параметры **find_top_item_by_feature**:\n",
    "- data\n",
    "- признак, по которому выбираем наблюдение с наибольшим значением - \"Views\""
   ]
  },
  {
   "cell_type": "code",
   "execution_count": 437,
   "metadata": {},
   "outputs": [
    {
     "data": {
      "text/plain": [
       "Unnamed: 0                                                       1147\n",
       "Artist                                                     Luis Fonsi\n",
       "Url_spotify         https://open.spotify.com/artist/4V8Sr092TqfHkf...\n",
       "Track                                                       Despacito\n",
       "Album                                                            VIDA\n",
       "Album_type                                                      album\n",
       "Uri                              spotify:track:6habFhsOp2NvshLv26DqMb\n",
       "Danceability                                                    0.655\n",
       "Energy                                                          0.797\n",
       "Key                                                               2.0\n",
       "Loudness                                                       -4.787\n",
       "Speechiness                                                     0.153\n",
       "Acousticness                                                    0.198\n",
       "Instrumentalness                                                  0.0\n",
       "Liveness                                                        0.067\n",
       "Valence                                                         0.839\n",
       "Tempo                                                         177.928\n",
       "Duration_ms                                                  229360.0\n",
       "Url_youtube               https://www.youtube.com/watch?v=kJQP7kiw5Fk\n",
       "Title                         Luis Fonsi - Despacito ft. Daddy Yankee\n",
       "Channel                                                 LuisFonsiVEVO\n",
       "Views                                                    8079649362.0\n",
       "Likes                                                      50788652.0\n",
       "Comments                                                    4252791.0\n",
       "Description         “Despacito” disponible ya en todas las platafo...\n",
       "Licensed                                                         True\n",
       "official_video                                                   True\n",
       "Stream                                                   1506598267.0\n",
       "Name: 1147, dtype: object"
      ]
     },
     "execution_count": 437,
     "metadata": {},
     "output_type": "execute_result"
    }
   ],
   "source": [
    "find_top_item_by_feature(data, \"Views\")"
   ]
  },
  {
   "attachments": {},
   "cell_type": "markdown",
   "metadata": {
    "collapsed": false
   },
   "source": [
    "#### 6. У какой песни самый высокий балл за танцевальность (danceability )?"
   ]
  },
  {
   "attachments": {},
   "cell_type": "markdown",
   "metadata": {},
   "source": [
    "Получаем песню с самым высоким баллом за танцевальность, используя **find_top_item_by_feature**"
   ]
  },
  {
   "attachments": {},
   "cell_type": "markdown",
   "metadata": {},
   "source": [
    "Параметры **find_top_item_by_feature**:\n",
    "- data\n",
    "- признак, по которому выбираем наблюдение с наибольшим значением - \"Danceability\""
   ]
  },
  {
   "cell_type": "code",
   "execution_count": 438,
   "metadata": {
    "collapsed": false
   },
   "outputs": [
    {
     "name": "stdout",
     "output_type": "stream",
     "text": [
      "Unnamed: 0                                                        750\n",
      "Artist                                                      Timbaland\n",
      "Url_spotify         https://open.spotify.com/artist/5Y5TRrQiqgUO4S...\n",
      "Track                                                   Give It To Me\n",
      "Album                                                     Shock Value\n",
      "Album_type                                                      album\n",
      "Uri                              spotify:track:0wbDgMuAoy7O7pL3a69uZx\n",
      "Danceability                                                    0.975\n",
      "Energy                                                          0.711\n",
      "Key                                                               8.0\n",
      "Loudness                                                       -3.904\n",
      "Speechiness                                                    0.0632\n",
      "Acousticness                                                    0.168\n",
      "Instrumentalness                                             0.000552\n",
      "Liveness                                                       0.0799\n",
      "Valence                                                         0.815\n",
      "Tempo                                                         110.621\n",
      "Duration_ms                                                  234027.0\n",
      "Url_youtube               https://www.youtube.com/watch?v=RgoiSJ23cSc\n",
      "Title               Timbaland - Give It To Me (Official Music Vide...\n",
      "Channel                                                 TimbalandVEVO\n",
      "Views                                                     133147140.0\n",
      "Likes                                                        760396.0\n",
      "Comments                                                      17486.0\n",
      "Description         Official music video for Timbaland's \"Give It ...\n",
      "Licensed                                                         True\n",
      "official_video                                                   True\n",
      "Stream                                                    165286007.0\n",
      "Name: 750, dtype: object\n"
     ]
    }
   ],
   "source": [
    "print(find_top_item_by_feature(data, \"Danceability\"))"
   ]
  },
  {
   "attachments": {},
   "cell_type": "markdown",
   "metadata": {
    "collapsed": false
   },
   "source": [
    "#### 7. У какой песни самый высокий показатель энергии (energy score)?"
   ]
  },
  {
   "attachments": {},
   "cell_type": "markdown",
   "metadata": {},
   "source": [
    "Получаем песню с самым высоким показателем энергии, используя **find_top_item_by_feature**"
   ]
  },
  {
   "attachments": {},
   "cell_type": "markdown",
   "metadata": {},
   "source": [
    "Параметры **find_top_item_by_feature**:\n",
    "- data\n",
    "- признак, по которому выбираем наблюдение с наибольшим значением - \"Energy\""
   ]
  },
  {
   "cell_type": "code",
   "execution_count": 439,
   "metadata": {
    "collapsed": false
   },
   "outputs": [
    {
     "name": "stdout",
     "output_type": "stream",
     "text": [
      "Unnamed: 0                                                      20581\n",
      "Artist                                             Rain Fruits Sounds\n",
      "Url_spotify         https://open.spotify.com/artist/5OQTGVAJnAH4u8...\n",
      "Track                                    Rain and Thunderstorm, Pt. 3\n",
      "Album                                           Rain and Thunderstorm\n",
      "Album_type                                                      album\n",
      "Uri                              spotify:track:5Ven10AjOuLWMFFrcYnYy3\n",
      "Danceability                                                     0.16\n",
      "Energy                                                            1.0\n",
      "Key                                                               8.0\n",
      "Loudness                                                      -25.277\n",
      "Speechiness                                                    0.0508\n",
      "Acousticness                                                    0.661\n",
      "Instrumentalness                                                0.555\n",
      "Liveness                                                        0.952\n",
      "Valence                                                       0.00001\n",
      "Tempo                                                          65.576\n",
      "Duration_ms                                                   41000.0\n",
      "Url_youtube               https://www.youtube.com/watch?v=cv2-ustvqN4\n",
      "Title               Rain Thunder Sounds 10 Hours [Sleep Fruits Mus...\n",
      "Channel                                                   Lofi Fruits\n",
      "Views                                                        433396.0\n",
      "Likes                                                          4923.0\n",
      "Comments                                                        125.0\n",
      "Description         Rain Thunder Sounds 10 Hours [Sleep Fruits Mus...\n",
      "Licensed                                                         True\n",
      "official_video                                                   True\n",
      "Stream                                                     16701441.0\n",
      "Name: 20581, dtype: object\n"
     ]
    }
   ],
   "source": [
    "print(find_top_item_by_feature(data, \"Energy\"))"
   ]
  },
  {
   "attachments": {},
   "cell_type": "markdown",
   "metadata": {
    "collapsed": false
   },
   "source": [
    "#### 8. Какая песня имеет наивысший балл valence (valence score)?"
   ]
  },
  {
   "attachments": {},
   "cell_type": "markdown",
   "metadata": {},
   "source": [
    "Получаем песню с самым высоким баллом valence, используя **find_top_item_by_feature**"
   ]
  },
  {
   "attachments": {},
   "cell_type": "markdown",
   "metadata": {},
   "source": [
    "Параметры **find_top_item_by_feature**:\n",
    "- data\n",
    "- признак, по которому выбираем наблюдение с наибольшим значением - \"Valence\""
   ]
  },
  {
   "cell_type": "code",
   "execution_count": 440,
   "metadata": {
    "collapsed": false
   },
   "outputs": [
    {
     "name": "stdout",
     "output_type": "stream",
     "text": [
      "Unnamed: 0                                                      18514\n",
      "Artist                                                       Toby Fox\n",
      "Url_spotify         https://open.spotify.com/artist/57DlMWmbVIf2ss...\n",
      "Track                                                    Spider Dance\n",
      "Album                                            UNDERTALE Soundtrack\n",
      "Album_type                                                      album\n",
      "Uri                              spotify:track:3aiGshuqYhdBBBhHqRf6jn\n",
      "Danceability                                                    0.644\n",
      "Energy                                                          0.826\n",
      "Key                                                               1.0\n",
      "Loudness                                                       -9.578\n",
      "Speechiness                                                    0.0544\n",
      "Acousticness                                                   0.0431\n",
      "Instrumentalness                                                0.969\n",
      "Liveness                                                        0.103\n",
      "Valence                                                         0.993\n",
      "Tempo                                                         114.928\n",
      "Duration_ms                                                  106435.0\n",
      "Url_youtube               https://www.youtube.com/watch?v=YZ3XjVVNagU\n",
      "Title                               Undertale OST: 059 - Spider Dance\n",
      "Channel                                                        Misaki\n",
      "Views                                                      12880861.0\n",
      "Likes                                                        153628.0\n",
      "Comments                                                       9116.0\n",
      "Description         Undertale is a great game and I really do high...\n",
      "Licensed                                                        False\n",
      "official_video                                                  False\n",
      "Stream                                                     32276501.0\n",
      "Name: 18514, dtype: object\n"
     ]
    }
   ],
   "source": [
    "print(find_top_item_by_feature(data, \"Valence\"))"
   ]
  },
  {
   "attachments": {},
   "cell_type": "markdown",
   "metadata": {
    "collapsed": false
   },
   "source": [
    "#### 9. Будут ли песни с более высокой «valence» (музыкальной позитивностью) более популярны как на Spotify, так и на YouTube? Чтобы ответить на этот вопрос, подсчитайте среднюю оценку «valence» для песен в верхнем квартиле «Streams» и «Views» и сравните ее с общей средней «valence»."
   ]
  },
  {
   "attachments": {},
   "cell_type": "markdown",
   "metadata": {},
   "source": [
    "Верхний квартиль - это 25% процентов из всей выборки, которые имеют значения признака выше, чем у остальных 75%.\n",
    "<br>Найдём верхние квартили для признаков Stream и Views.\n",
    "<br>Отфильтруем строки таблицы, выявив те, которые находятся в верхнем квартиле по обоим признакам и посчитаем для них среднее значение Valence.\n",
    "<br>Так же посчитаем среднее значения признака Valence по всей выборке.\n",
    "\n"
   ]
  },
  {
   "cell_type": "code",
   "execution_count": 443,
   "metadata": {
    "collapsed": false
   },
   "outputs": [
    {
     "name": "stdout",
     "output_type": "stream",
     "text": [
      "Mean valence for most popular Spotify tracks = 0.5240532929493545\n",
      "Mean valence for most popular YouTube tracks = 0.5475266442820462\n",
      "Total mean valence = 0.5298533240007725\n"
     ]
    }
   ],
   "source": [
    "spotify_stream_upper_quartile = data[\"Stream\"].quantile(.75)\n",
    "youtube_views_upper_quartile = data[\"Views\"].quantile(.75)\n",
    "\n",
    "most_popular_spotify_songs_valence_mean = data[data[\"Stream\"] >= spotify_stream_upper_quartile][\"Valence\"].mean()\n",
    "most_popular_youtube_songs_valence_mean = data[data[\"Views\"] >= youtube_views_upper_quartile][\"Valence\"].mean()\n",
    "total_valence_mean = data[\"Valence\"].mean()\n",
    "\n",
    "print(f'Mean valence for most popular Spotify tracks = {most_popular_spotify_songs_valence_mean}')\n",
    "print(f'Mean valence for most popular YouTube tracks = {most_popular_youtube_songs_valence_mean}')\n",
    "print(f'Total mean valence = {total_valence_mean}')"
   ]
  },
  {
   "attachments": {},
   "cell_type": "markdown",
   "metadata": {},
   "source": [
    "По результатам можно сделать вывод, что более высокий валенс не определяет высокую популярность на Spotify/YouTube, т.к. среднее значение valence у треков популярных на Spotify/YouTube примерно такое же, как и по всей выборке."
   ]
  },
  {
   "attachments": {},
   "cell_type": "markdown",
   "metadata": {
    "collapsed": false
   },
   "source": [
    "#### 10. Какой канал на YouTube имеет наибольшее количество просмотров?"
   ]
  },
  {
   "attachments": {},
   "cell_type": "markdown",
   "metadata": {},
   "source": [
    "Находим канал на YouTube с наибольшим количеством просмотров, используя **find_top_category_by_feature**"
   ]
  },
  {
   "attachments": {},
   "cell_type": "markdown",
   "metadata": {},
   "source": [
    "Параметры **find_top_category_by_feature**: \n",
    "- data\n",
    "- для группировки признак - \"Channel\"\n",
    "- признак, для аггрегации - \"Views\"\n",
    "- функция аггрегации - \"sum\", т.к интересует суммарное количество просмотров"
   ]
  },
  {
   "cell_type": "code",
   "execution_count": 444,
   "metadata": {},
   "outputs": [
    {
     "data": {
      "text/plain": [
       "'T-Series'"
      ]
     },
     "execution_count": 444,
     "metadata": {},
     "output_type": "execute_result"
    }
   ],
   "source": [
    "find_top_category_by_feature(data, \"Channel\", \"Views\", \"sum\")"
   ]
  },
  {
   "attachments": {},
   "cell_type": "markdown",
   "metadata": {
    "collapsed": false
   },
   "source": [
    "#### 11. У песни какого исполнителя больше всего комментариев на YouTube?"
   ]
  },
  {
   "attachments": {},
   "cell_type": "markdown",
   "metadata": {},
   "source": [
    "Находим исполнителя, чья песня имеет наибольшее количество комментариев на YouTube, используя **find_top_item_by_feature**"
   ]
  },
  {
   "attachments": {},
   "cell_type": "markdown",
   "metadata": {},
   "source": [
    "Параметры **find_top_item_by_feature**:\n",
    "- data\n",
    "- признак, по которому выбираем наблюдение с наибольшим значением - \"Comments\""
   ]
  },
  {
   "cell_type": "code",
   "execution_count": 445,
   "metadata": {},
   "outputs": [
    {
     "name": "stdout",
     "output_type": "stream",
     "text": [
      "BTS\n"
     ]
    }
   ],
   "source": [
    "print(find_top_item_by_feature(data, \"Comments\")[\"Artist\"])"
   ]
  },
  {
   "attachments": {},
   "cell_type": "markdown",
   "metadata": {
    "collapsed": false
   },
   "source": [
    "#### 12. Какой самый распространенный темп (tempo) песен?"
   ]
  },
  {
   "attachments": {},
   "cell_type": "markdown",
   "metadata": {},
   "source": [
    "Находим самый распространённый темп песен, используя **get_most_often_value**"
   ]
  },
  {
   "attachments": {},
   "cell_type": "markdown",
   "metadata": {},
   "source": [
    "Параметры **get_most_often_value**:\n",
    "- data\n",
    "- признак, по которому ищем наиболее частое значение - \"Tempo\""
   ]
  },
  {
   "cell_type": "code",
   "execution_count": 446,
   "metadata": {},
   "outputs": [
    {
     "data": {
      "text/plain": [
       "77.986"
      ]
     },
     "execution_count": 446,
     "metadata": {},
     "output_type": "execute_result"
    }
   ],
   "source": [
    "get_most_often_value(data, \"Tempo\")"
   ]
  },
  {
   "attachments": {},
   "cell_type": "markdown",
   "metadata": {
    "collapsed": false
   },
   "source": [
    "#### 13. Какая песня имеет самый высокий показатель по speechiness?"
   ]
  },
  {
   "attachments": {},
   "cell_type": "markdown",
   "metadata": {},
   "source": [
    "Находим песню с самым высоким показателем speechiness, используя **find_top_item_by_feature**"
   ]
  },
  {
   "attachments": {},
   "cell_type": "markdown",
   "metadata": {},
   "source": [
    "Параметры **find_top_item_by_feature**:\n",
    "- data\n",
    "- признак, по которому выбираем наблюдение с наибольшим значением - \"Speechiness\""
   ]
  },
  {
   "cell_type": "code",
   "execution_count": 447,
   "metadata": {},
   "outputs": [
    {
     "name": "stdout",
     "output_type": "stream",
     "text": [
      "Unnamed: 0                                                       5158\n",
      "Artist                                         Sir Arthur Conan Doyle\n",
      "Url_spotify         https://open.spotify.com/artist/3Xj8xqJUruJ2mo...\n",
      "Track               Teil 7 - Sherlock Holmes und der blinde Bettle...\n",
      "Album               Sherlock Holmes und der blinde Bettler [Die ne...\n",
      "Album_type                                                      album\n",
      "Uri                              spotify:track:1TZg1dxQgy7KOhPrMJNePj\n",
      "Danceability                                                    0.625\n",
      "Energy                                                          0.257\n",
      "Key                                                               1.0\n",
      "Loudness                                                      -15.375\n",
      "Speechiness                                                     0.964\n",
      "Acousticness                                                    0.115\n",
      "Instrumentalness                                                  0.0\n",
      "Liveness                                                        0.283\n",
      "Valence                                                         0.349\n",
      "Tempo                                                          170.97\n",
      "Duration_ms                                                  180202.0\n",
      "Url_youtube               https://www.youtube.com/watch?v=Z_pXmKAsXGw\n",
      "Title               Sherlock Holmes e l'ultimo saluto - Arthur Con...\n",
      "Channel                                              audioraccontando\n",
      "Views                                                         27263.0\n",
      "Likes                                                           535.0\n",
      "Comments                                                         14.0\n",
      "Description         Von Bork, una spia tedesca, e il barone Von He...\n",
      "Licensed                                                         True\n",
      "official_video                                                   True\n",
      "Stream                                                        10540.0\n",
      "Name: 5158, dtype: object\n"
     ]
    }
   ],
   "source": [
    "print(find_top_item_by_feature(data, \"Speechiness\"))"
   ]
  },
  {
   "attachments": {},
   "cell_type": "markdown",
   "metadata": {
    "collapsed": false
   },
   "source": [
    "#### 14. Какая самая громкая песня в наборе данных?"
   ]
  },
  {
   "attachments": {},
   "cell_type": "markdown",
   "metadata": {},
   "source": [
    "Находим самую громкую песню в наборе данных, используя **find_top_item_by_feature**"
   ]
  },
  {
   "attachments": {},
   "cell_type": "markdown",
   "metadata": {},
   "source": [
    "Параметры **find_top_item_by_feature**:\n",
    "- data\n",
    "- признак, по которому выбираем наблюдение с наибольшим значением - \"Loudness\""
   ]
  },
  {
   "cell_type": "code",
   "execution_count": 448,
   "metadata": {},
   "outputs": [
    {
     "name": "stdout",
     "output_type": "stream",
     "text": [
      "Unnamed: 0                                                       9423\n",
      "Artist                                                      Sub Focus\n",
      "Url_spotify         https://open.spotify.com/artist/0QaSiI5TLA4N7m...\n",
      "Track                                                           Siren\n",
      "Album                                            Solar System / Siren\n",
      "Album_type                                                     single\n",
      "Uri                              spotify:track:2ON6cCZbi7momz4JLx2jTN\n",
      "Danceability                                                    0.486\n",
      "Energy                                                          0.986\n",
      "Key                                                               5.0\n",
      "Loudness                                                         0.92\n",
      "Speechiness                                                     0.062\n",
      "Acousticness                                                    0.118\n",
      "Instrumentalness                                                0.684\n",
      "Liveness                                                        0.219\n",
      "Valence                                                         0.241\n",
      "Tempo                                                         173.983\n",
      "Duration_ms                                                  256000.0\n",
      "Url_youtube               https://www.youtube.com/watch?v=JhC1tBgQgVA\n",
      "Title                                  Sub Focus - Siren (Visualiser)\n",
      "Channel                                                  SubFocusVEVO\n",
      "Views                                                       1042170.0\n",
      "Likes                                                         16584.0\n",
      "Comments                                                        329.0\n",
      "Description         Sub Focus Solar System/Siren is out now https:...\n",
      "Licensed                                                         True\n",
      "official_video                                                   True\n",
      "Stream                                                     14126273.0\n",
      "Name: 9423, dtype: object\n"
     ]
    }
   ],
   "source": [
    "print(find_top_item_by_feature(data, \"Loudness\"))"
   ]
  },
  {
   "attachments": {},
   "cell_type": "markdown",
   "metadata": {
    "collapsed": false
   },
   "source": [
    "#### 15. У какого артиста самый высокий средний балл danceability?"
   ]
  },
  {
   "attachments": {},
   "cell_type": "markdown",
   "metadata": {},
   "source": [
    "Находим артиста с самым высоким средним баллом danceability, используя **find_top_category_by_feature**"
   ]
  },
  {
   "attachments": {},
   "cell_type": "markdown",
   "metadata": {},
   "source": [
    "Параметры **find_top_category_by_feature**:\n",
    "- для группировки признак - \"Artist\"\n",
    "- признак, для аггрегации - \"Danceability\"\n",
    "- функция аггрегации - \"mean\", т.к. интересует среднее значение балла danceability"
   ]
  },
  {
   "cell_type": "code",
   "execution_count": 449,
   "metadata": {},
   "outputs": [
    {
     "data": {
      "text/plain": [
       "'Saweetie'"
      ]
     },
     "execution_count": 449,
     "metadata": {},
     "output_type": "execute_result"
    }
   ],
   "source": [
    "find_top_category_by_feature(data, \"Artist\", \"Danceability\", \"mean\")"
   ]
  },
  {
   "attachments": {},
   "cell_type": "markdown",
   "metadata": {
    "collapsed": false
   },
   "source": [
    "#### 16. Как средний показатель «speechiness» песен зависит от «Album_type»? Песни, выпущенные как синглы, чаще содержат больше слов согласно анализу?"
   ]
  },
  {
   "attachments": {},
   "cell_type": "markdown",
   "metadata": {},
   "source": [
    "Группируем данные по типу альбома и находим среднее значение «speechiness» для каждого типа альбома."
   ]
  },
  {
   "cell_type": "code",
   "execution_count": 450,
   "metadata": {
    "collapsed": false
   },
   "outputs": [
    {
     "data": {
      "text/plain": [
       "Album_type\n",
       "album          0.094900\n",
       "compilation    0.078867\n",
       "single         0.103867\n",
       "Name: Speechiness, dtype: float64"
      ]
     },
     "execution_count": 450,
     "metadata": {},
     "output_type": "execute_result"
    }
   ],
   "source": [
    "data.groupby(\"Album_type\")[\"Speechiness\"].mean()"
   ]
  },
  {
   "attachments": {},
   "cell_type": "markdown",
   "metadata": {},
   "source": [
    "По результатам можно сделать вывод, что синглы чаще содежат больше слов. Т.к. среднее значение показателя speechiness у них выше."
   ]
  },
  {
   "attachments": {},
   "cell_type": "markdown",
   "metadata": {
    "collapsed": false
   },
   "source": [
    "#### 17. Каково среднее количество прослушиваний песен, которые входят в топ 10% лучших по метрике танцевальности?"
   ]
  },
  {
   "attachments": {},
   "cell_type": "markdown",
   "metadata": {},
   "source": [
    "Находим среднее количество прослушиваний песен, которые входят в топ 10% лучших по метрике танцевальности, используя **find_mean_value_for_top_items_by**"
   ]
  },
  {
   "attachments": {},
   "cell_type": "markdown",
   "metadata": {},
   "source": [
    "Параметры **find_mean_value_for_top_items_by**:\n",
    "- data\n",
    "- признак, по которому отбираем топ - \"Danceability\"\n",
    "- количество процентов отбираемого топа от всей выборки - 10\n",
    "- признак, по которому ищем среднее значение для топ песен по заданному критерию - Stream"
   ]
  },
  {
   "cell_type": "code",
   "execution_count": 451,
   "metadata": {},
   "outputs": [
    {
     "data": {
      "text/plain": [
       "151930059.92221135"
      ]
     },
     "execution_count": 451,
     "metadata": {},
     "output_type": "execute_result"
    }
   ],
   "source": [
    "find_mean_value_for_top_items_by(data, \"Danceability\", 10, \"Stream\")"
   ]
  },
  {
   "attachments": {},
   "cell_type": "markdown",
   "metadata": {
    "collapsed": false
   },
   "source": [
    "#### 18. Для песен, которые входят в топ 10% лучших с точки зрения «danceability» метрики, как соотносится их средний показатель «tempo» со средним показателем «tempo» всех песен?"
   ]
  },
  {
   "attachments": {},
   "cell_type": "markdown",
   "metadata": {},
   "source": [
    "Находим cредний показатель «tempo» песен, которые входят в топ 10% лучших с точки зрения «danceability» метрики, используя **find_mean_value_for_top_items_by**"
   ]
  },
  {
   "attachments": {},
   "cell_type": "markdown",
   "metadata": {},
   "source": [
    "Параметры **find_mean_value_for_top_items_by**:\n",
    "- data\n",
    "- признак, по которому отбираем топ - \"Danceability\"\n",
    "- количество процентов отбираемого топа от всей выборки - 10\n",
    "- признак, по которому ищем среднее значение для топ песен по заданному критерию - Tempo"
   ]
  },
  {
   "cell_type": "code",
   "execution_count": 452,
   "metadata": {},
   "outputs": [
    {
     "name": "stdout",
     "output_type": "stream",
     "text": [
      "Mean tempo for top 10% danceable songs = 115.07538602409639\n",
      "Mean tempo total = 120.63833993048851\n"
     ]
    }
   ],
   "source": [
    "mean_tempo_for_top_10_danceable_songs = find_mean_value_for_top_items_by(data, \"Danceability\", 10, \"Tempo\")\n",
    "mean_tempo = data[\"Tempo\"].mean()\n",
    "\n",
    "print(f'Mean tempo for top 10% danceable songs = {mean_tempo_for_top_10_danceable_songs}')\n",
    "print(f'Mean tempo total = {mean_tempo}')"
   ]
  },
  {
   "attachments": {},
   "cell_type": "markdown",
   "metadata": {},
   "source": [
    "Mean tempo for top 10% danceable songs is a little bit lower than mean for all."
   ]
  },
  {
   "attachments": {},
   "cell_type": "markdown",
   "metadata": {
    "collapsed": false
   },
   "source": [
    "#### 19. Какова корреляция между «valence» метрикой песни и ее популярностью на YouTube (по показателю «Views») и Spotify (по показателю «Stream»)? Счастливые песни более популярны? Valency отвечает за жизнерадостность песни."
   ]
  },
  {
   "cell_type": "code",
   "execution_count": 453,
   "metadata": {
    "collapsed": false
   },
   "outputs": [
    {
     "name": "stdout",
     "output_type": "stream",
     "text": [
      "0.03542303191912804\n",
      "-0.012109291352001578\n"
     ]
    }
   ],
   "source": [
    "print(data[\"Valence\"].corr(data[\"Views\"]))\n",
    "print(data[\"Valence\"].corr(data[\"Stream\"]))"
   ]
  },
  {
   "attachments": {},
   "cell_type": "markdown",
   "metadata": {},
   "source": [
    "По результатам можно сказать, что никакой корреляции между уровнем жизнерадостности песни и её популярностью на YouTube/Spotify не прослеживается. Значения близки к нулю."
   ]
  },
  {
   "attachments": {},
   "cell_type": "markdown",
   "metadata": {
    "collapsed": false
   },
   "source": [
    "#### 20. Какова средняя громкость песен, которые входят в топ 10% лучших по энергетике (Energy)?"
   ]
  },
  {
   "attachments": {},
   "cell_type": "markdown",
   "metadata": {},
   "source": [
    "Находим среднюю громкость песен, которые входят в топ 10% лучших по энергетике, используя **find_mean_value_for_top_items_by**"
   ]
  },
  {
   "attachments": {},
   "cell_type": "markdown",
   "metadata": {},
   "source": [
    "Параметры **find_mean_value_for_top_items_by**:\n",
    "- data\n",
    "- признак, по которому отбираем топ - \"Energy\"\n",
    "- количество процентов отбираемого топа от всей выборки - 10\n",
    "- признак, по которому ищем среднее значение для топ песен по заданному критерию - Loudness"
   ]
  },
  {
   "cell_type": "code",
   "execution_count": 454,
   "metadata": {},
   "outputs": [
    {
     "data": {
      "text/plain": [
       "-4.627998091603053"
      ]
     },
     "execution_count": 454,
     "metadata": {},
     "output_type": "execute_result"
    }
   ],
   "source": [
    "find_mean_value_for_top_items_by(data, \"Energy\", 10, \"Loudness\")"
   ]
  },
  {
   "attachments": {},
   "cell_type": "markdown",
   "metadata": {
    "collapsed": false
   },
   "source": [
    "#### 21. У какого исполнителя больше всего песен, которые входят в топ-10% как по просмотрам на YouTube, так и по стримам Spotify?"
   ]
  },
  {
   "attachments": {},
   "cell_type": "markdown",
   "metadata": {},
   "source": [
    "Находим квантили по признакам Views и Stream такие, что 90% наблюдений имеют значения соответствующих признаков меньше их.\n",
    "<br>Далее отфильтровываем те трэки, которые входит в топ-10%, как по просмотрам на YouTube, так и по стримам Spotify.\n",
    "<br>Группируем эти трэки по исполнителям, таким образом получая набор таких треков для каждого исполнителя.\n",
    "<br>Определяем количество таких трэков для каждого исполнителя.\n",
    "<br>Сортируем исполнителей по количеству таких трэков и достаём того, у которого это количество наибольшее."
   ]
  },
  {
   "cell_type": "code",
   "execution_count": 457,
   "metadata": {
    "collapsed": false
   },
   "outputs": [
    {
     "data": {
      "text/plain": [
       "'Calvin Harris'"
      ]
     },
     "execution_count": 457,
     "metadata": {},
     "output_type": "execute_result"
    }
   ],
   "source": [
    "top_10_quartile_youtube_views = data[\"Views\"].quantile(0.9)\n",
    "top_10_quartile_spotify_stream = data[\"Stream\"].quantile(0.9)\n",
    "\n",
    "data[(data[\"Views\"] > top_10_quartile_youtube_views) & (data[\"Stream\"] > top_10_quartile_spotify_stream)].groupby(\"Artist\").size().sort_values(ascending=False).index[0]"
   ]
  },
  {
   "attachments": {},
   "cell_type": "markdown",
   "metadata": {
    "collapsed": false
   },
   "source": [
    "#### 22. Какова корреляция между «energy» песни и ее «loudness»?"
   ]
  },
  {
   "cell_type": "code",
   "execution_count": 458,
   "metadata": {
    "collapsed": false
   },
   "outputs": [
    {
     "name": "stdout",
     "output_type": "stream",
     "text": [
      "0.7448445555528459\n"
     ]
    }
   ],
   "source": [
    "print(data[\"Energy\"].corr(data[\"Loudness\"]))"
   ]
  },
  {
   "attachments": {},
   "cell_type": "markdown",
   "metadata": {},
   "source": [
    "По результату можно сказать, что прослеживается высокая положительная корреляция между этими 2-мя параметрами."
   ]
  },
  {
   "attachments": {},
   "cell_type": "markdown",
   "metadata": {
    "collapsed": false
   },
   "source": [
    "#### 23. Каково среднее количество лайков на YouTube для песен, которые находятся в верхнем квартиле (25%) и как это соотносится с общим средним показателем?"
   ]
  },
  {
   "attachments": {},
   "cell_type": "markdown",
   "metadata": {},
   "source": [
    "Находим среднее количество лайков на YouTube для песен, которые находятся в верхнем квартиле (25%), используя **find_mean_value_for_top_items_by**"
   ]
  },
  {
   "attachments": {},
   "cell_type": "markdown",
   "metadata": {},
   "source": [
    "Параметры **find_mean_value_for_top_items_by**:\n",
    "- data\n",
    "- признак, по которому отбираем топ - \"Likes\"\n",
    "- количество процентов отбираемого топа от всей выборки - 25\n",
    "- признак, по которому ищем среднее значение для топ песен по заданному критерию - Likes"
   ]
  },
  {
   "cell_type": "code",
   "execution_count": 459,
   "metadata": {},
   "outputs": [
    {
     "name": "stdout",
     "output_type": "stream",
     "text": [
      "Mean likes count for top 25% liked songs = 2307317.6901883055\n",
      "Mean likes total = 663341.0613074292\n",
      "Mean likes count for top 25% liked songs is 3.48 times bigger than total average likes count.\n"
     ]
    }
   ],
   "source": [
    "mean_likes_for_top_25_liked_songs = find_mean_value_for_top_items_by(data, \"Likes\", 25, \"Likes\")\n",
    "mean_likes = data[\"Likes\"].mean()\n",
    "\n",
    "print(f'Mean likes count for top 25% liked songs = {mean_likes_for_top_25_liked_songs}')\n",
    "print(f'Mean likes total = {mean_likes}')\n",
    "print(f'Mean likes count for top 25% liked songs is {round(mean_likes_for_top_25_liked_songs/mean_likes, 2)} times bigger than total average likes count.')"
   ]
  },
  {
   "attachments": {},
   "cell_type": "markdown",
   "metadata": {},
   "source": [
    "Ожидаемо для песен из верхнего квартиля по лайкам среднее количество лайков заметно больше, чем в среднем по всей выборке."
   ]
  },
  {
   "attachments": {},
   "cell_type": "markdown",
   "metadata": {
    "collapsed": false
   },
   "source": [
    "#### 24. Есть ли существенная разница в средней «valence» метрикой для песен, выпущенных как синглы, по сравнению с песнями, выпущенными в виде альбома?"
   ]
  },
  {
   "cell_type": "code",
   "execution_count": 460,
   "metadata": {
    "collapsed": false
   },
   "outputs": [
    {
     "name": "stdout",
     "output_type": "stream",
     "text": [
      "0.5301261410871304\n",
      "0.5297710700884481\n"
     ]
    }
   ],
   "source": [
    "print(data[data[\"Album_type\"] == 'single'][\"Valence\"].mean())\n",
    "print(data[data[\"Album_type\"] == 'album'][\"Valence\"].mean())"
   ]
  },
  {
   "attachments": {},
   "cell_type": "markdown",
   "metadata": {},
   "source": [
    "Существенной разницы нет."
   ]
  },
  {
   "attachments": {},
   "cell_type": "markdown",
   "metadata": {
    "collapsed": false
   },
   "source": [
    "#### 25. Каково среднее количество «комментариев» на YouTube для песен с показателем «speechiness» выше 0,66 (что указывает на большое количество произнесенных слов) и как это соотносится с общим средним показателем?"
   ]
  },
  {
   "attachments": {},
   "cell_type": "markdown",
   "metadata": {},
   "source": [
    "Находим среднее колчество комментариев по наблюдениям, отобранным по условию, что значение показателя Speechiness выше 0.66.\n",
    "<br>Находим среднее колчество комментариев по всем наблюдениям.\n",
    "<br>Сравниваем."
   ]
  },
  {
   "cell_type": "code",
   "execution_count": 461,
   "metadata": {
    "collapsed": false
   },
   "outputs": [
    {
     "name": "stdout",
     "output_type": "stream",
     "text": [
      "Mean comments for songs with speechiness 0.66 and upper = 335\n",
      "Mean commnets total = 27519\n",
      "Mean total average comments is 82.24 times bigger than average comments count for songs with speechiness 0.66 and upper.\n"
     ]
    }
   ],
   "source": [
    "mean_comments_for_speechy_songs = data[data[\"Speechiness\"] > 0.66][\"Comments\"].mean()\n",
    "mean_comments = data[\"Comments\"].mean()\n",
    "\n",
    "print(f'Mean comments for songs with speechiness 0.66 and upper = {round(mean_comments_for_speechy_songs)}')\n",
    "print(f'Mean commnets total = {round(mean_comments)}')\n",
    "print(f'Mean total average comments is {round(mean_comments/mean_comments_for_speechy_songs, 2)} times bigger than average comments count for songs with speechiness 0.66 and upper.')"
   ]
  },
  {
   "attachments": {},
   "cell_type": "markdown",
   "metadata": {},
   "source": [
    "По резульату можно сделать вывод, что песни с большим количеством слов\\текста заметно реже комментируются."
   ]
  }
 ],
 "metadata": {
  "kernelspec": {
   "display_name": "venv_hw",
   "language": "python",
   "name": "venv_hw"
  },
  "language_info": {
   "codemirror_mode": {
    "name": "ipython",
    "version": 3
   },
   "file_extension": ".py",
   "mimetype": "text/x-python",
   "name": "python",
   "nbconvert_exporter": "python",
   "pygments_lexer": "ipython3",
   "version": "3.10.6"
  }
 },
 "nbformat": 4,
 "nbformat_minor": 0
}
