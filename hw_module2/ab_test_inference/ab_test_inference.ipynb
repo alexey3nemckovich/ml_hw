{
 "cells": [
  {
   "attachments": {},
   "cell_type": "markdown",
   "metadata": {
    "collapsed": false
   },
   "source": [
    "\n",
    "# Задание:\n",
    "----\n",
    "\n",
    "<br>\n",
    "\n",
    "Вам предоставлен анонимизированные результаты **реального A/B тестирования**, проходившего когда-то в нашем отделе (`ab_test_ensembles.csv`). В тесте было два варианта работы сервиса - `standard` и `svm_ensemble_v_1_22`, где работали несколько моделей классификации для целей сервиса.\n",
    "\n",
    "<br>\n",
    "\n",
    "\n",
    "------\n",
    "Вам, как специалистам по машинному обучению предстоит ответить на **2 главных вопроса:**\n",
    "\n",
    "1. Стоит ли нам оставить старый вариант работы сервиса или заменить его на вариант работы с моделями классификации (используем всю выборку 200к+ пользователей).\n",
    "2. Кроме того, посчитайте вывод для типа пользователей (`user_type`). Стоит ли для новых (старых) пользователей оставить старый (новый) вариант работы сервиса.\n",
    "\n",
    "\n",
    "<br>\n",
    "\n",
    "Для того, чтобы освежить в памяти процесс тестирования статистических гипотез, непомню, что тестирование состоит из следующих частей:\n",
    "1. Дизайн эксперимента.\n",
    "2. Подготовка и запуск эксперимента.\n",
    "3. Сбор данных и аналитика полученных данных.\n",
    "4. Визуализация результатов тестирования.\n",
    "5. Тестирование гипотез.\n",
    "6. Вывод и интерпритация результатов.\n",
    "\n",
    "-----\n",
    "\n",
    "#### Критерии оценки задания:\n",
    "\n",
    "1. **Первое, что будет проверяться - вывод полученных результатов**, в случае если выводы сделаны не правильно, задание считается проваленным и на этом этап проверки заканчивается (пропускаются этапы код-ревью, оформления и визуализации, качество кода).\n",
    "2. В случае если результаты и интерпритация результатов оказались верны, проводится код-ревью и проверка этапа визуализаций, поиск проблемных точек, точек роста.\n",
    "3. **Максимальный балл** который можно получить, выполнив текущее задание: **2 балла за 1 вопрос, 2 балла за 2 вопрос и 1 балл за эффективный и аккуратный код.\n",
    "\n",
    "\n",
    "Удачи, примените все свои навыки, которые вам доступны на данный момент и покажите на что вы способны!"
   ]
  },
  {
   "cell_type": "code",
   "execution_count": 616,
   "metadata": {
    "collapsed": false
   },
   "outputs": [],
   "source": [
    "import pandas as pd\n",
    "import numpy as np\n",
    "import statistics\n",
    "from scipy.stats import stats, norm, binom, beta, normaltest, probplot\n",
    "import statsmodels.api as sm\n",
    "import matplotlib.pyplot as plt\n",
    "import seaborn as sns\n",
    "import warnings\n",
    "\n",
    "warnings.filterwarnings(\"ignore\")\n",
    "np.random.seed(42)"
   ]
  },
  {
   "attachments": {},
   "cell_type": "markdown",
   "metadata": {},
   "source": [
    "#### 1. Знакомство с собранными данными по группам и базовая статистика."
   ]
  },
  {
   "cell_type": "code",
   "execution_count": 617,
   "metadata": {},
   "outputs": [
    {
     "data": {
      "text/html": [
       "<div>\n",
       "<style scoped>\n",
       "    .dataframe tbody tr th:only-of-type {\n",
       "        vertical-align: middle;\n",
       "    }\n",
       "\n",
       "    .dataframe tbody tr th {\n",
       "        vertical-align: top;\n",
       "    }\n",
       "\n",
       "    .dataframe thead th {\n",
       "        text-align: right;\n",
       "    }\n",
       "</style>\n",
       "<table border=\"1\" class=\"dataframe\">\n",
       "  <thead>\n",
       "    <tr style=\"text-align: right;\">\n",
       "      <th></th>\n",
       "      <th>user_id</th>\n",
       "      <th>timestamp</th>\n",
       "      <th>group</th>\n",
       "      <th>variants</th>\n",
       "      <th>converted</th>\n",
       "      <th>location</th>\n",
       "      <th>age_group</th>\n",
       "      <th>user_type</th>\n",
       "    </tr>\n",
       "  </thead>\n",
       "  <tbody>\n",
       "    <tr>\n",
       "      <th>0</th>\n",
       "      <td>9109b0dc-d393-497f-8d63-ba9a25dd16b4</td>\n",
       "      <td>2022-05-21 22:11:48.556739</td>\n",
       "      <td>control</td>\n",
       "      <td>standard</td>\n",
       "      <td>0</td>\n",
       "      <td>United Kingdom</td>\n",
       "      <td>18-25</td>\n",
       "      <td>registered_user</td>\n",
       "    </tr>\n",
       "    <tr>\n",
       "      <th>1</th>\n",
       "      <td>2430c3d2-f75b-4b31-8271-51b6a76c2652</td>\n",
       "      <td>2022-05-12 08:01:45.159739</td>\n",
       "      <td>control</td>\n",
       "      <td>standard</td>\n",
       "      <td>0</td>\n",
       "      <td>United Kingdom</td>\n",
       "      <td>42-49</td>\n",
       "      <td>registered_user</td>\n",
       "    </tr>\n",
       "    <tr>\n",
       "      <th>2</th>\n",
       "      <td>44788c4e-8dd2-4fad-b986-75e76f4adb64</td>\n",
       "      <td>2022-05-11 16:55:06.154213</td>\n",
       "      <td>treatment</td>\n",
       "      <td>svm_ensemble_v_1_22</td>\n",
       "      <td>0</td>\n",
       "      <td>United Kingdom</td>\n",
       "      <td>26-33</td>\n",
       "      <td>new_user</td>\n",
       "    </tr>\n",
       "    <tr>\n",
       "      <th>3</th>\n",
       "      <td>4699a417-506d-41b8-a354-6af6ad576963</td>\n",
       "      <td>2022-05-08 18:28:03.143765</td>\n",
       "      <td>treatment</td>\n",
       "      <td>svm_ensemble_v_1_22</td>\n",
       "      <td>0</td>\n",
       "      <td>United Kingdom</td>\n",
       "      <td>42-49</td>\n",
       "      <td>registered_user</td>\n",
       "    </tr>\n",
       "    <tr>\n",
       "      <th>4</th>\n",
       "      <td>304b0d28-bcdf-401a-9dff-66230d3ba0bc</td>\n",
       "      <td>2022-05-21 01:52:26.210827</td>\n",
       "      <td>control</td>\n",
       "      <td>standard</td>\n",
       "      <td>1</td>\n",
       "      <td>United Kingdom</td>\n",
       "      <td>42-49</td>\n",
       "      <td>registered_user</td>\n",
       "    </tr>\n",
       "  </tbody>\n",
       "</table>\n",
       "</div>"
      ],
      "text/plain": [
       "                                user_id                   timestamp   \n",
       "0  9109b0dc-d393-497f-8d63-ba9a25dd16b4  2022-05-21 22:11:48.556739  \\\n",
       "1  2430c3d2-f75b-4b31-8271-51b6a76c2652  2022-05-12 08:01:45.159739   \n",
       "2  44788c4e-8dd2-4fad-b986-75e76f4adb64  2022-05-11 16:55:06.154213   \n",
       "3  4699a417-506d-41b8-a354-6af6ad576963  2022-05-08 18:28:03.143765   \n",
       "4  304b0d28-bcdf-401a-9dff-66230d3ba0bc  2022-05-21 01:52:26.210827   \n",
       "\n",
       "       group             variants  converted        location age_group   \n",
       "0    control             standard          0  United Kingdom     18-25  \\\n",
       "1    control             standard          0  United Kingdom     42-49   \n",
       "2  treatment  svm_ensemble_v_1_22          0  United Kingdom     26-33   \n",
       "3  treatment  svm_ensemble_v_1_22          0  United Kingdom     42-49   \n",
       "4    control             standard          1  United Kingdom     42-49   \n",
       "\n",
       "         user_type  \n",
       "0  registered_user  \n",
       "1  registered_user  \n",
       "2         new_user  \n",
       "3  registered_user  \n",
       "4  registered_user  "
      ]
     },
     "execution_count": 617,
     "metadata": {},
     "output_type": "execute_result"
    }
   ],
   "source": [
    "# Dataset with AB testing results (2 groups -> standard and svm_ensemble_v_1_22)\n",
    "data = pd.read_csv('./ab_test_ensembles.csv', index_col=False)\n",
    "data.head()"
   ]
  },
  {
   "cell_type": "code",
   "execution_count": 618,
   "metadata": {},
   "outputs": [
    {
     "name": "stdout",
     "output_type": "stream",
     "text": [
      "<class 'pandas.core.frame.DataFrame'>\n",
      "RangeIndex: 294478 entries, 0 to 294477\n",
      "Data columns (total 8 columns):\n",
      " #   Column     Non-Null Count   Dtype \n",
      "---  ------     --------------   ----- \n",
      " 0   user_id    294478 non-null  object\n",
      " 1   timestamp  294478 non-null  object\n",
      " 2   group      294478 non-null  object\n",
      " 3   variants   294478 non-null  object\n",
      " 4   converted  294478 non-null  int64 \n",
      " 5   location   294478 non-null  object\n",
      " 6   age_group  294478 non-null  object\n",
      " 7   user_type  294478 non-null  object\n",
      "dtypes: int64(1), object(7)\n",
      "memory usage: 18.0+ MB\n"
     ]
    }
   ],
   "source": [
    "# check the features and data types of the dataset\n",
    "data.info()"
   ]
  },
  {
   "cell_type": "code",
   "execution_count": 619,
   "metadata": {},
   "outputs": [
    {
     "data": {
      "text/html": [
       "<div>\n",
       "<style scoped>\n",
       "    .dataframe tbody tr th:only-of-type {\n",
       "        vertical-align: middle;\n",
       "    }\n",
       "\n",
       "    .dataframe tbody tr th {\n",
       "        vertical-align: top;\n",
       "    }\n",
       "\n",
       "    .dataframe thead th {\n",
       "        text-align: right;\n",
       "    }\n",
       "</style>\n",
       "<table border=\"1\" class=\"dataframe\">\n",
       "  <thead>\n",
       "    <tr style=\"text-align: right;\">\n",
       "      <th></th>\n",
       "      <th>count</th>\n",
       "      <th>mean</th>\n",
       "      <th>std</th>\n",
       "      <th>min</th>\n",
       "      <th>25%</th>\n",
       "      <th>50%</th>\n",
       "      <th>75%</th>\n",
       "      <th>max</th>\n",
       "    </tr>\n",
       "  </thead>\n",
       "  <tbody>\n",
       "    <tr>\n",
       "      <th>converted</th>\n",
       "      <td>294478.0</td>\n",
       "      <td>0.119659</td>\n",
       "      <td>0.324563</td>\n",
       "      <td>0.0</td>\n",
       "      <td>0.0</td>\n",
       "      <td>0.0</td>\n",
       "      <td>0.0</td>\n",
       "      <td>1.0</td>\n",
       "    </tr>\n",
       "  </tbody>\n",
       "</table>\n",
       "</div>"
      ],
      "text/plain": [
       "              count      mean       std  min  25%  50%  75%  max\n",
       "converted  294478.0  0.119659  0.324563  0.0  0.0  0.0  0.0  1.0"
      ]
     },
     "execution_count": 619,
     "metadata": {},
     "output_type": "execute_result"
    }
   ],
   "source": [
    "data.describe().T"
   ]
  },
  {
   "cell_type": "code",
   "execution_count": 620,
   "metadata": {},
   "outputs": [
    {
     "data": {
      "text/plain": [
       "user_id      0\n",
       "timestamp    0\n",
       "group        0\n",
       "variants     0\n",
       "converted    0\n",
       "location     0\n",
       "age_group    0\n",
       "user_type    0\n",
       "dtype: int64"
      ]
     },
     "execution_count": 620,
     "metadata": {},
     "output_type": "execute_result"
    }
   ],
   "source": [
    "# Check if there is a corrupt or empty observations\n",
    "data.isnull().sum()"
   ]
  },
  {
   "cell_type": "code",
   "execution_count": 621,
   "metadata": {},
   "outputs": [
    {
     "data": {
      "text/plain": [
       "array(['standard', 'svm_ensemble_v_1_22'], dtype=object)"
      ]
     },
     "execution_count": 621,
     "metadata": {},
     "output_type": "execute_result"
    }
   ],
   "source": [
    "# What kind of groups do we have in A/B testing\n",
    "data.variants.unique()"
   ]
  },
  {
   "cell_type": "code",
   "execution_count": 622,
   "metadata": {},
   "outputs": [
    {
     "data": {
      "text/plain": [
       "variants\n",
       "standard               147239\n",
       "svm_ensemble_v_1_22    147239\n",
       "Name: count, dtype: int64"
      ]
     },
     "execution_count": 622,
     "metadata": {},
     "output_type": "execute_result"
    }
   ],
   "source": [
    "# Distribution by groups\n",
    "data.variants.value_counts()"
   ]
  },
  {
   "cell_type": "code",
   "execution_count": 623,
   "metadata": {},
   "outputs": [
    {
     "data": {
      "text/plain": [
       "variants\n",
       "standard               0.5\n",
       "svm_ensemble_v_1_22    0.5\n",
       "Name: proportion, dtype: float64"
      ]
     },
     "execution_count": 623,
     "metadata": {},
     "output_type": "execute_result"
    }
   ],
   "source": [
    "# Distribution by groups in %\n",
    "data.variants.value_counts(normalize=True)"
   ]
  },
  {
   "cell_type": "code",
   "execution_count": 624,
   "metadata": {},
   "outputs": [],
   "source": [
    "# For simplicity let's rename the groups into A for control and B for treatment variants\n",
    "data['variants'] = np.where(data['variants']== 'standard', 'A', 'B')"
   ]
  },
  {
   "cell_type": "code",
   "execution_count": 625,
   "metadata": {},
   "outputs": [
    {
     "name": "stdout",
     "output_type": "stream",
     "text": [
      "294478 rows of users data were collected.\n"
     ]
    }
   ],
   "source": [
    "print(len(data.user_id.unique()),'rows of users data were collected.')"
   ]
  },
  {
   "cell_type": "code",
   "execution_count": 626,
   "metadata": {},
   "outputs": [
    {
     "name": "stdout",
     "output_type": "stream",
     "text": [
      "Each user is test with one version!\n",
      "147239 users were in standard.\n",
      "147239 users were in svm_ensemble_v_1_22.\n"
     ]
    }
   ],
   "source": [
    "if len(data[data['variants'] == 'A']) + len(data[data['variants'] == 'B']) == len(data.user_id.unique()):\n",
    "  print(\"Each user is test with one version!\")\n",
    "  print(len(data[data['variants'] == 'A']),'users were in standard.')\n",
    "  print(len(data[data['variants'] == 'B']),'users were in svm_ensemble_v_1_22.' )\n",
    "else:\n",
    "  print(\"There are user are test with more than one version\")"
   ]
  },
  {
   "cell_type": "code",
   "execution_count": 627,
   "metadata": {},
   "outputs": [
    {
     "data": {
      "text/html": [
       "<div>\n",
       "<style scoped>\n",
       "    .dataframe tbody tr th:only-of-type {\n",
       "        vertical-align: middle;\n",
       "    }\n",
       "\n",
       "    .dataframe tbody tr th {\n",
       "        vertical-align: top;\n",
       "    }\n",
       "\n",
       "    .dataframe thead th {\n",
       "        text-align: right;\n",
       "    }\n",
       "</style>\n",
       "<table border=\"1\" class=\"dataframe\">\n",
       "  <thead>\n",
       "    <tr style=\"text-align: right;\">\n",
       "      <th></th>\n",
       "      <th>sum</th>\n",
       "    </tr>\n",
       "    <tr>\n",
       "      <th>variants</th>\n",
       "      <th></th>\n",
       "    </tr>\n",
       "  </thead>\n",
       "  <tbody>\n",
       "    <tr>\n",
       "      <th>A</th>\n",
       "      <td>17739</td>\n",
       "    </tr>\n",
       "    <tr>\n",
       "      <th>B</th>\n",
       "      <td>17498</td>\n",
       "    </tr>\n",
       "  </tbody>\n",
       "</table>\n",
       "</div>"
      ],
      "text/plain": [
       "            sum\n",
       "variants       \n",
       "A         17739\n",
       "B         17498"
      ]
     },
     "execution_count": 627,
     "metadata": {},
     "output_type": "execute_result"
    }
   ],
   "source": [
    "summary = data.groupby('variants').converted.agg(['sum'])\n",
    "summary"
   ]
  },
  {
   "cell_type": "code",
   "execution_count": 628,
   "metadata": {},
   "outputs": [
    {
     "data": {
      "text/html": [
       "<div>\n",
       "<style scoped>\n",
       "    .dataframe tbody tr th:only-of-type {\n",
       "        vertical-align: middle;\n",
       "    }\n",
       "\n",
       "    .dataframe tbody tr th {\n",
       "        vertical-align: top;\n",
       "    }\n",
       "\n",
       "    .dataframe thead th {\n",
       "        text-align: right;\n",
       "    }\n",
       "</style>\n",
       "<table border=\"1\" class=\"dataframe\">\n",
       "  <thead>\n",
       "    <tr style=\"text-align: right;\">\n",
       "      <th></th>\n",
       "      <th></th>\n",
       "      <th>converted</th>\n",
       "      <th>users</th>\n",
       "    </tr>\n",
       "    <tr>\n",
       "      <th>user_type</th>\n",
       "      <th>variants</th>\n",
       "      <th></th>\n",
       "      <th></th>\n",
       "    </tr>\n",
       "  </thead>\n",
       "  <tbody>\n",
       "    <tr>\n",
       "      <th rowspan=\"2\" valign=\"top\">new_user</th>\n",
       "      <th>A</th>\n",
       "      <td>8935</td>\n",
       "      <td>73797</td>\n",
       "    </tr>\n",
       "    <tr>\n",
       "      <th>B</th>\n",
       "      <td>8609</td>\n",
       "      <td>73441</td>\n",
       "    </tr>\n",
       "    <tr>\n",
       "      <th rowspan=\"2\" valign=\"top\">registered_user</th>\n",
       "      <th>A</th>\n",
       "      <td>8804</td>\n",
       "      <td>73442</td>\n",
       "    </tr>\n",
       "    <tr>\n",
       "      <th>B</th>\n",
       "      <td>8889</td>\n",
       "      <td>73798</td>\n",
       "    </tr>\n",
       "  </tbody>\n",
       "</table>\n",
       "</div>"
      ],
      "text/plain": [
       "                          converted  users\n",
       "user_type       variants                  \n",
       "new_user        A              8935  73797\n",
       "                B              8609  73441\n",
       "registered_user A              8804  73442\n",
       "                B              8889  73798"
      ]
     },
     "execution_count": 628,
     "metadata": {},
     "output_type": "execute_result"
    }
   ],
   "source": [
    "summary = data.groupby(['user_type', 'variants']).agg({'converted': 'sum', 'user_id': 'count'}).rename(columns={'user_id' : 'users'})\n",
    "summary"
   ]
  },
  {
   "attachments": {},
   "cell_type": "markdown",
   "metadata": {},
   "source": [
    "#### **Выводы:**\n",
    "\n",
    "- Всего 294478 уникальных значений для каждого пользователя в данном эксперименте.\n",
    "\n",
    "<br>\n",
    "\n",
    "- Поровну 147239 пользователей распределенны в группы А и В.\n",
    "\n",
    "<br>\n",
    "\n",
    "- Суммарное количество converted составляет **17739** для группы А и **17498** для группы В.\n",
    "\n",
    "<br>\n",
    "\n",
    "- Среди новых пользователей **73797** принадлежит к группе А и **73441** к группе B.\n",
    "\n",
    "<br>\n",
    "\n",
    "- Среди старых пользователей **73442** принадлежить к группе A и **73798** к группе B.\n",
    "\n",
    "<br>\n",
    "\n",
    "- Среди новых пользователей суммарное количество converted в группе А составляет **8935** и **8609** для группы B.\n",
    "\n",
    "<br>\n",
    "\n",
    "- Среди старых пользователей суммарное количество converted в группе А составляет **8804** и **8889** для группы B."
   ]
  },
  {
   "attachments": {},
   "cell_type": "markdown",
   "metadata": {},
   "source": [
    "#### 2. Обработка данных."
   ]
  },
  {
   "cell_type": "code",
   "execution_count": 629,
   "metadata": {},
   "outputs": [
    {
     "data": {
      "text/plain": [
       "array(['control', 'treatment'], dtype=object)"
      ]
     },
     "execution_count": 629,
     "metadata": {},
     "output_type": "execute_result"
    }
   ],
   "source": [
    "data.group.unique()"
   ]
  },
  {
   "attachments": {},
   "cell_type": "markdown",
   "metadata": {},
   "source": [
    "Видим, что в датасете присутствует признак group со значениями control/treatment.<br>\n",
    "Это разбиение датасета на наблюдения, где применяется ещё старый вариант работы сервиса (control), и на наблюдения, где применяется новый вариант работы сервиса (treatment).<br> \n",
    "Т.к. в нашем случае старый и новый варианты сервиса - это standard и svm_ensemble_v_1_22 соответственно, то наблюдениям группы control должен соответсвовать standard, а наблюдениям группы treatment должен соответствовать svm_ensemble_v_1_22.<br>\n",
    "<br>\n",
    "Проверим, нет ли данных, для которых это соответствие не выполняется."
   ]
  },
  {
   "cell_type": "code",
   "execution_count": 630,
   "metadata": {},
   "outputs": [],
   "source": [
    "count_invalid_variants = ((data.group=='control') & (data.variants!='A')).sum() + ((data.group=='treatment') & (data.variants!='B')).sum()"
   ]
  },
  {
   "cell_type": "code",
   "execution_count": 631,
   "metadata": {},
   "outputs": [
    {
     "data": {
      "text/plain": [
       "3893"
      ]
     },
     "execution_count": 631,
     "metadata": {},
     "output_type": "execute_result"
    }
   ],
   "source": [
    "count_invalid_variants"
   ]
  },
  {
   "cell_type": "code",
   "execution_count": 632,
   "metadata": {},
   "outputs": [
    {
     "data": {
      "text/plain": [
       "1.322000285250511"
      ]
     },
     "execution_count": 632,
     "metadata": {},
     "output_type": "execute_result"
    }
   ],
   "source": [
    "(count_invalid_variants / data.shape[0]) * 100"
   ]
  },
  {
   "attachments": {},
   "cell_type": "markdown",
   "metadata": {},
   "source": [
    "Видим, что есть наблюдения, в которых данное соответствие не выполняется.<br>\n",
    "Т.к. процент таких наблюдений меньше 2%, то можем их убрать из выборки."
   ]
  },
  {
   "cell_type": "code",
   "execution_count": 633,
   "metadata": {},
   "outputs": [],
   "source": [
    "data = data.drop(data[((data.group=='control') & (data.variants!='A')) | ((data.group=='treatment') & (data.variants!='B'))].index)"
   ]
  },
  {
   "cell_type": "code",
   "execution_count": 634,
   "metadata": {},
   "outputs": [
    {
     "data": {
      "text/plain": [
       "0"
      ]
     },
     "execution_count": 634,
     "metadata": {},
     "output_type": "execute_result"
    }
   ],
   "source": [
    "((data.group=='control') & (data.variants!='A')).sum() + ((data.group=='treatment') & (data.variants!='B')).sum()"
   ]
  },
  {
   "attachments": {},
   "cell_type": "markdown",
   "metadata": {},
   "source": [
    "#### 3. Проведение анализа по метрике converted."
   ]
  },
  {
   "attachments": {},
   "cell_type": "markdown",
   "metadata": {},
   "source": [
    "##### 3.1 Вынесем общий функционал"
   ]
  },
  {
   "attachments": {},
   "cell_type": "markdown",
   "metadata": {},
   "source": [
    "Т.к. мы ведём анализ дискретной величины (true/false), то будем применять непараметрический тесты **chi-squared test**, **Fisher’s exact test**, **Mann–Whitney U-test**.<br>\n",
    "<br>\n",
    "Т.к. нам необходимо будет провести анализ как для всей выборки, так и для каждого типа пользователей в отдельности, то для удобства вынесем функции для выполнения необходимых оценок в отдельные функции."
   ]
  },
  {
   "attachments": {},
   "cell_type": "markdown",
   "metadata": {},
   "source": [
    "-------\n",
    "**H0 (Null hypothesis)** : Не существует статистически значимой разницы между метриками в 2-х вариантах теста\n",
    "\n",
    "P(converted rate of B) - P(converted rate of A) <= 0\n",
    "\n",
    "**H1 (Alternative hypothesis)**:  Существует статистически значимая разница между 2-мя вариантами\n",
    "\n",
    "P(converted rate of B) - P(converted rate of A) > 0\n"
   ]
  },
  {
   "cell_type": "code",
   "execution_count": 635,
   "metadata": {},
   "outputs": [],
   "source": [
    "def get_converted_crosstab_per_variant(data):\n",
    "    return pd.crosstab(data[\"variants\"], data[\"converted\"])"
   ]
  },
  {
   "attachments": {},
   "cell_type": "markdown",
   "metadata": {},
   "source": [
    "**chi-2 test**\n",
    "\n",
    "- Уровень Значимости (Alpha) = 0.5 = вероятность отклонить нулевую гипотезу когда она истина (Type I)"
   ]
  },
  {
   "cell_type": "code",
   "execution_count": 636,
   "metadata": {},
   "outputs": [],
   "source": [
    "# Chi-square test of independence of variables in a contingency table - Pearson's chi-square test or the chi-square test of association\n",
    "from scipy.stats import chi2_contingency\n",
    "\n",
    "def chi2_con_test(data):\n",
    "    chi2, p, dof, ex = chi2_contingency(data)\n",
    "    alpha = 0.05\n",
    "\n",
    "    s = 'chi-squared test resulst: '\n",
    "    s += '\\np=%.4f , alpha=%.2f \\n'%(p, alpha)\n",
    "    if p > alpha:\n",
    "        s += '\\nFail to reject H0; Two version have no significant difference'\n",
    "    else:\n",
    "        s += '\\nHave enough envidence to reject H0; Two version have a significant difference'\n",
    "\n",
    "    return s"
   ]
  },
  {
   "cell_type": "code",
   "execution_count": 637,
   "metadata": {},
   "outputs": [],
   "source": [
    "def get_chi2_con_test_results(data):\n",
    "    return chi2_con_test(get_converted_crosstab_per_variant(data))"
   ]
  },
  {
   "attachments": {},
   "cell_type": "markdown",
   "metadata": {},
   "source": [
    "**Mann–Whitney U-test**\n",
    "\n",
    "- Уровень Значимости (Alpha) = 0.5 = вероятность отклонить нулевую гипотезу когда она истина (Type I)"
   ]
  },
  {
   "cell_type": "code",
   "execution_count": 638,
   "metadata": {},
   "outputs": [],
   "source": [
    "from scipy.stats import mannwhitneyu\n",
    "\n",
    "def mannwhitney_test(value1, value2):\n",
    "\n",
    "    stat, p=mannwhitneyu(value1, value2)\n",
    "    alpha=0.05\n",
    "\n",
    "    s = \"Mann–Whitney U-test test results:\"\n",
    "    s += '\\np=%.4f , alpha=%.2f \\n'%(p, alpha)\n",
    "    if p > alpha:\n",
    "        s += '\\nFail to reject H0; Two version have no significant difference'\n",
    "    else:\n",
    "        s += '\\nHave enough envidence to reject H0; Two version have a significant difference'\n",
    "\n",
    "    return s"
   ]
  },
  {
   "attachments": {},
   "cell_type": "markdown",
   "metadata": {},
   "source": [
    "**Fisher’s exact test**\n",
    "\n",
    "- Уровень Значимости (Alpha) = 0.5 = вероятность отклонить нулевую гипотезу когда она истина (Type I)"
   ]
  },
  {
   "cell_type": "code",
   "execution_count": 639,
   "metadata": {},
   "outputs": [],
   "source": [
    "from scipy.stats import fisher_exact\n",
    "\n",
    "def fisher_exact_test(data):\n",
    "\n",
    "    # Perform Fisher's exact test\n",
    "    odds_ratio, p = fisher_exact(data)\n",
    "    alpha=0.05\n",
    "\n",
    "    s = \"Fisher’s exact test results:\"\n",
    "    s += '\\np=%.4f , alpha=%.2f \\n'%(p,alpha)\n",
    "    if p > alpha:\n",
    "        s += '\\nFail to reject H0; Two version have no significant difference'\n",
    "    else:\n",
    "        s += '\\nHave enough envidence to reject H0; Two version have a significant difference'\n",
    "\n",
    "    return s"
   ]
  },
  {
   "cell_type": "code",
   "execution_count": 640,
   "metadata": {},
   "outputs": [],
   "source": [
    "def get_fisher_exact_test_results(data):\n",
    "    return fisher_exact_test(get_converted_crosstab_per_variant(data))"
   ]
  },
  {
   "attachments": {},
   "cell_type": "markdown",
   "metadata": {},
   "source": [
    "**Function to get all tests results**"
   ]
  },
  {
   "cell_type": "code",
   "execution_count": 641,
   "metadata": {},
   "outputs": [],
   "source": [
    "def calc_converted_test_results(data):\n",
    "    # what is the overall converted rate?\n",
    "    overall_converted_rate = data.converted.sum()/data.converted.count()*100\n",
    "\n",
    "    # what is converted rate for each version?\n",
    "    converted_rate_percents_per_variant = data.groupby('variants').converted.sum()/data.groupby('variants').converted.count()*100\n",
    "\n",
    "    converted_rate_per_variant = data.groupby('variants').agg({'converted':'mean'})\n",
    "\n",
    "    # chi2 test results\n",
    "    chi2_test_results = get_chi2_con_test_results(data)\n",
    "\n",
    "    mannwhitneyu_test_results = mannwhitney_test(data[data.variants=='A'].converted, data[data.variants=='B'].converted)\n",
    "\n",
    "    fisher_test_results = get_fisher_exact_test_results(data)\n",
    "    \n",
    "    return (overall_converted_rate, converted_rate_percents_per_variant, converted_rate_per_variant, chi2_test_results, mannwhitneyu_test_results, fisher_test_results)"
   ]
  },
  {
   "attachments": {},
   "cell_type": "markdown",
   "metadata": {},
   "source": [
    "##### 3.2 Проведение анализа метрики converted по всей выборке."
   ]
  },
  {
   "cell_type": "code",
   "execution_count": 642,
   "metadata": {},
   "outputs": [],
   "source": [
    "( \n",
    "    overall_converted_rate, \n",
    "    converted_rate_percents_per_variant, \n",
    "    converted_rate_per_variant, \n",
    "    chi2_test_results,\n",
    "    mannwhitneyu_test_results,\n",
    "    fisher_test_results\n",
    ") = calc_converted_test_results(data)"
   ]
  },
  {
   "cell_type": "code",
   "execution_count": 643,
   "metadata": {},
   "outputs": [
    {
     "data": {
      "text/plain": [
       "11.959667567149026"
      ]
     },
     "execution_count": 643,
     "metadata": {},
     "output_type": "execute_result"
    }
   ],
   "source": [
    "overall_converted_rate"
   ]
  },
  {
   "cell_type": "code",
   "execution_count": 644,
   "metadata": {},
   "outputs": [
    {
     "data": {
      "text/plain": [
       "variants\n",
       "A    12.038630\n",
       "B    11.880725\n",
       "Name: converted, dtype: float64"
      ]
     },
     "execution_count": 644,
     "metadata": {},
     "output_type": "execute_result"
    }
   ],
   "source": [
    "converted_rate_percents_per_variant"
   ]
  },
  {
   "cell_type": "code",
   "execution_count": 645,
   "metadata": {},
   "outputs": [
    {
     "data": {
      "text/html": [
       "<div>\n",
       "<style scoped>\n",
       "    .dataframe tbody tr th:only-of-type {\n",
       "        vertical-align: middle;\n",
       "    }\n",
       "\n",
       "    .dataframe tbody tr th {\n",
       "        vertical-align: top;\n",
       "    }\n",
       "\n",
       "    .dataframe thead th {\n",
       "        text-align: right;\n",
       "    }\n",
       "</style>\n",
       "<table border=\"1\" class=\"dataframe\">\n",
       "  <thead>\n",
       "    <tr style=\"text-align: right;\">\n",
       "      <th></th>\n",
       "      <th>converted</th>\n",
       "    </tr>\n",
       "    <tr>\n",
       "      <th>variants</th>\n",
       "      <th></th>\n",
       "    </tr>\n",
       "  </thead>\n",
       "  <tbody>\n",
       "    <tr>\n",
       "      <th>A</th>\n",
       "      <td>0.120386</td>\n",
       "    </tr>\n",
       "    <tr>\n",
       "      <th>B</th>\n",
       "      <td>0.118807</td>\n",
       "    </tr>\n",
       "  </tbody>\n",
       "</table>\n",
       "</div>"
      ],
      "text/plain": [
       "          converted\n",
       "variants           \n",
       "A          0.120386\n",
       "B          0.118807"
      ]
     },
     "execution_count": 645,
     "metadata": {},
     "output_type": "execute_result"
    }
   ],
   "source": [
    "converted_rate_per_variant"
   ]
  },
  {
   "cell_type": "code",
   "execution_count": 646,
   "metadata": {},
   "outputs": [
    {
     "name": "stdout",
     "output_type": "stream",
     "text": [
      "chi-squared test resulst: \n",
      "p=0.1916 , alpha=0.05 \n",
      "\n",
      "Fail to reject H0; Two version have no significant difference\n"
     ]
    }
   ],
   "source": [
    "print(chi2_test_results)"
   ]
  },
  {
   "cell_type": "code",
   "execution_count": 647,
   "metadata": {},
   "outputs": [
    {
     "name": "stdout",
     "output_type": "stream",
     "text": [
      "Mann–Whitney U-test test results:\n",
      "p=0.1897 , alpha=0.05 \n",
      "\n",
      "Fail to reject H0; Two version have no significant difference\n"
     ]
    }
   ],
   "source": [
    "print(mannwhitneyu_test_results)"
   ]
  },
  {
   "cell_type": "code",
   "execution_count": 648,
   "metadata": {},
   "outputs": [
    {
     "name": "stdout",
     "output_type": "stream",
     "text": [
      "Fisher’s exact test results:\n",
      "p=0.1905 , alpha=0.05 \n",
      "\n",
      "Fail to reject H0; Two version have no significant difference\n"
     ]
    }
   ],
   "source": [
    "print(fisher_test_results)"
   ]
  },
  {
   "attachments": {},
   "cell_type": "markdown",
   "metadata": {},
   "source": [
    "**Выводы:**\n",
    "- Общий показатель метрики converted по всем данным **11.966%**; группа A **12.039%** и группа B **11.881%**\n",
    "- У группы А показатели метрики converted выше чем у группы В.\n",
    "- У обоих вариантов нет статистически значимых изменений в метрике converted.\n",
    "\n"
   ]
  },
  {
   "attachments": {},
   "cell_type": "markdown",
   "metadata": {},
   "source": [
    "##### 3.3 Проведение анализа метрики converted для старых пользователей."
   ]
  },
  {
   "cell_type": "code",
   "execution_count": 649,
   "metadata": {},
   "outputs": [],
   "source": [
    "( \n",
    "    overall_converted_rate, \n",
    "    converted_rate_percents_per_variant, \n",
    "    converted_rate_per_variant, \n",
    "    chi2_test_results,\n",
    "    mannwhitneyu_test_results,\n",
    "    fisher_test_results\n",
    ") = calc_converted_test_results(data[data.user_type=='registered_user'])"
   ]
  },
  {
   "cell_type": "code",
   "execution_count": 650,
   "metadata": {},
   "outputs": [
    {
     "data": {
      "text/plain": [
       "12.007955296190266"
      ]
     },
     "execution_count": 650,
     "metadata": {},
     "output_type": "execute_result"
    }
   ],
   "source": [
    "overall_converted_rate"
   ]
  },
  {
   "cell_type": "code",
   "execution_count": 651,
   "metadata": {},
   "outputs": [
    {
     "data": {
      "text/plain": [
       "variants\n",
       "A    11.987638\n",
       "B    12.028176\n",
       "Name: converted, dtype: float64"
      ]
     },
     "execution_count": 651,
     "metadata": {},
     "output_type": "execute_result"
    }
   ],
   "source": [
    "converted_rate_percents_per_variant"
   ]
  },
  {
   "cell_type": "code",
   "execution_count": 652,
   "metadata": {},
   "outputs": [
    {
     "data": {
      "text/html": [
       "<div>\n",
       "<style scoped>\n",
       "    .dataframe tbody tr th:only-of-type {\n",
       "        vertical-align: middle;\n",
       "    }\n",
       "\n",
       "    .dataframe tbody tr th {\n",
       "        vertical-align: top;\n",
       "    }\n",
       "\n",
       "    .dataframe thead th {\n",
       "        text-align: right;\n",
       "    }\n",
       "</style>\n",
       "<table border=\"1\" class=\"dataframe\">\n",
       "  <thead>\n",
       "    <tr style=\"text-align: right;\">\n",
       "      <th></th>\n",
       "      <th>converted</th>\n",
       "    </tr>\n",
       "    <tr>\n",
       "      <th>variants</th>\n",
       "      <th></th>\n",
       "    </tr>\n",
       "  </thead>\n",
       "  <tbody>\n",
       "    <tr>\n",
       "      <th>A</th>\n",
       "      <td>0.119876</td>\n",
       "    </tr>\n",
       "    <tr>\n",
       "      <th>B</th>\n",
       "      <td>0.120282</td>\n",
       "    </tr>\n",
       "  </tbody>\n",
       "</table>\n",
       "</div>"
      ],
      "text/plain": [
       "          converted\n",
       "variants           \n",
       "A          0.119876\n",
       "B          0.120282"
      ]
     },
     "execution_count": 652,
     "metadata": {},
     "output_type": "execute_result"
    }
   ],
   "source": [
    "converted_rate_per_variant"
   ]
  },
  {
   "cell_type": "code",
   "execution_count": 653,
   "metadata": {},
   "outputs": [
    {
     "name": "stdout",
     "output_type": "stream",
     "text": [
      "chi-squared test resulst: \n",
      "p=0.8184 , alpha=0.05 \n",
      "\n",
      "Fail to reject H0; Two version have no significant difference\n"
     ]
    }
   ],
   "source": [
    "print(chi2_test_results)"
   ]
  },
  {
   "cell_type": "code",
   "execution_count": 654,
   "metadata": {},
   "outputs": [
    {
     "name": "stdout",
     "output_type": "stream",
     "text": [
      "Mann–Whitney U-test test results:\n",
      "p=0.8121 , alpha=0.05 \n",
      "\n",
      "Fail to reject H0; Two version have no significant difference\n"
     ]
    }
   ],
   "source": [
    "print(mannwhitneyu_test_results)"
   ]
  },
  {
   "cell_type": "code",
   "execution_count": 655,
   "metadata": {},
   "outputs": [
    {
     "name": "stdout",
     "output_type": "stream",
     "text": [
      "Fisher’s exact test results:\n",
      "p=0.8150 , alpha=0.05 \n",
      "\n",
      "Fail to reject H0; Two version have no significant difference\n"
     ]
    }
   ],
   "source": [
    "print(fisher_test_results)"
   ]
  },
  {
   "attachments": {},
   "cell_type": "markdown",
   "metadata": {},
   "source": [
    "**Вывод:**\n",
    "- Общий показатель метрики converted для старых пользователей **12.008%**; группа A **11.988%** и группа B **12.029%**\n",
    "- У группы B показатели метрики converted выше чем у группы A.\n",
    "- У обоих вариантов нет статистически значимых изменений в метрике converted для старых пользователей.\n",
    "\n"
   ]
  },
  {
   "attachments": {},
   "cell_type": "markdown",
   "metadata": {},
   "source": [
    "##### 3.4 Проведение анализа метрики converted для новых пользователей."
   ]
  },
  {
   "cell_type": "code",
   "execution_count": 656,
   "metadata": {},
   "outputs": [],
   "source": [
    "( \n",
    "    overall_converted_rate, \n",
    "    converted_rate_percents_per_variant, \n",
    "    converted_rate_per_variant, \n",
    "    chi2_test_results,\n",
    "    mannwhitneyu_test_results,\n",
    "    fisher_test_results\n",
    ") = calc_converted_test_results(data[data.user_type=='new_user'])"
   ]
  },
  {
   "cell_type": "code",
   "execution_count": 657,
   "metadata": {},
   "outputs": [
    {
     "data": {
      "text/plain": [
       "11.911366874780585"
      ]
     },
     "execution_count": 657,
     "metadata": {},
     "output_type": "execute_result"
    }
   ],
   "source": [
    "overall_converted_rate"
   ]
  },
  {
   "cell_type": "code",
   "execution_count": 658,
   "metadata": {},
   "outputs": [
    {
     "data": {
      "text/plain": [
       "variants\n",
       "A    12.089407\n",
       "B    11.732568\n",
       "Name: converted, dtype: float64"
      ]
     },
     "execution_count": 658,
     "metadata": {},
     "output_type": "execute_result"
    }
   ],
   "source": [
    "converted_rate_percents_per_variant"
   ]
  },
  {
   "cell_type": "code",
   "execution_count": 659,
   "metadata": {},
   "outputs": [
    {
     "data": {
      "text/html": [
       "<div>\n",
       "<style scoped>\n",
       "    .dataframe tbody tr th:only-of-type {\n",
       "        vertical-align: middle;\n",
       "    }\n",
       "\n",
       "    .dataframe tbody tr th {\n",
       "        vertical-align: top;\n",
       "    }\n",
       "\n",
       "    .dataframe thead th {\n",
       "        text-align: right;\n",
       "    }\n",
       "</style>\n",
       "<table border=\"1\" class=\"dataframe\">\n",
       "  <thead>\n",
       "    <tr style=\"text-align: right;\">\n",
       "      <th></th>\n",
       "      <th>converted</th>\n",
       "    </tr>\n",
       "    <tr>\n",
       "      <th>variants</th>\n",
       "      <th></th>\n",
       "    </tr>\n",
       "  </thead>\n",
       "  <tbody>\n",
       "    <tr>\n",
       "      <th>A</th>\n",
       "      <td>0.120894</td>\n",
       "    </tr>\n",
       "    <tr>\n",
       "      <th>B</th>\n",
       "      <td>0.117326</td>\n",
       "    </tr>\n",
       "  </tbody>\n",
       "</table>\n",
       "</div>"
      ],
      "text/plain": [
       "          converted\n",
       "variants           \n",
       "A          0.120894\n",
       "B          0.117326"
      ]
     },
     "execution_count": 659,
     "metadata": {},
     "output_type": "execute_result"
    }
   ],
   "source": [
    "converted_rate_per_variant"
   ]
  },
  {
   "cell_type": "code",
   "execution_count": 660,
   "metadata": {},
   "outputs": [
    {
     "name": "stdout",
     "output_type": "stream",
     "text": [
      "chi-squared test resulst: \n",
      "p=0.0365 , alpha=0.05 \n",
      "\n",
      "Have enough envidence to reject H0; Two version have a significant difference\n"
     ]
    }
   ],
   "source": [
    "print(chi2_test_results)"
   ]
  },
  {
   "cell_type": "code",
   "execution_count": 661,
   "metadata": {},
   "outputs": [
    {
     "name": "stdout",
     "output_type": "stream",
     "text": [
      "Mann–Whitney U-test test results:\n",
      "p=0.0358 , alpha=0.05 \n",
      "\n",
      "Have enough envidence to reject H0; Two version have a significant difference\n"
     ]
    }
   ],
   "source": [
    "print(mannwhitneyu_test_results)"
   ]
  },
  {
   "cell_type": "code",
   "execution_count": 662,
   "metadata": {},
   "outputs": [
    {
     "name": "stdout",
     "output_type": "stream",
     "text": [
      "Fisher’s exact test results:\n",
      "p=0.0359 , alpha=0.05 \n",
      "\n",
      "Have enough envidence to reject H0; Two version have a significant difference\n"
     ]
    }
   ],
   "source": [
    "print(fisher_test_results)"
   ]
  },
  {
   "attachments": {},
   "cell_type": "markdown",
   "metadata": {},
   "source": [
    "**Вывод:**\n",
    "- Общий показатель метрики converted по всем данным **11.911%**; группа A **12.089%** и группа B **11.733%**\n",
    "- У группы А показатели метрики converted выше чем у группы В.\n",
    "- Для новых пользователей есть статистически значимые изменения в метрике converted между группами A и B.\n",
    "\n"
   ]
  },
  {
   "attachments": {},
   "cell_type": "markdown",
   "metadata": {},
   "source": [
    "#### 4. Подведение итогового вывода."
   ]
  },
  {
   "attachments": {},
   "cell_type": "markdown",
   "metadata": {},
   "source": [
    "Т.к. для новых пользователей наблюдается значительные изменения в метрике converted между группами A и B при том, что со старым вариантом работы сервиса показатели метрики converted выше, и при этом для всей выборки и отдельно для старых пользователей статистически значимых изменений в метрике converted между группами A и B не наблюдается, то делаем выввод, что **целесообразней будет оставить старый вариант работы сервиса**."
   ]
  }
 ],
 "metadata": {
  "kernelspec": {
   "display_name": "venv_hw",
   "language": "python",
   "name": "venv_hw"
  },
  "language_info": {
   "codemirror_mode": {
    "name": "ipython",
    "version": 3
   },
   "file_extension": ".py",
   "mimetype": "text/x-python",
   "name": "python",
   "nbconvert_exporter": "python",
   "pygments_lexer": "ipython3",
   "version": "3.10.6"
  }
 },
 "nbformat": 4,
 "nbformat_minor": 0
}
